{
 "cells": [
  {
   "cell_type": "code",
   "execution_count": 37,
   "id": "d22f6357",
   "metadata": {},
   "outputs": [],
   "source": [
    "import geemap\n",
    "import ee\n",
    "import ipywidgets as widgets\n",
    "from ipyleaflet import WidgetControl\n",
    "import matplotlib.pyplot as plt\n",
    "import matplotlib.dates as mdates\n",
    "import datetime as dt\n",
    "import numpy as np\n",
    "import os"
   ]
  },
  {
   "cell_type": "code",
   "execution_count": 38,
   "id": "20726cd8",
   "metadata": {
    "scrolled": false
   },
   "outputs": [
    {
     "data": {
      "application/vnd.jupyter.widget-view+json": {
       "model_id": "51ecee416fe549c98ba1efbea972bd6f",
       "version_major": 2,
       "version_minor": 0
      },
      "text/plain": [
       "Map(center=[20, 0], controls=(WidgetControl(options=['position', 'transparent_bg'], widget=HBox(children=(Togg…"
      ]
     },
     "metadata": {},
     "output_type": "display_data"
    }
   ],
   "source": [
    "Map = geemap.Map()\n",
    "Map"
   ]
  },
  {
   "cell_type": "code",
   "execution_count": 39,
   "id": "79d78025",
   "metadata": {},
   "outputs": [],
   "source": [
    "# From\n",
    "date01_wgt = widgets.DatePicker(\n",
    "    description='From',\n",
    "    value = dt.date(2021, 1, 1),\n",
    "    layout=widgets.Layout(width=\"215px\")\n",
    ")\n",
    "# To\n",
    "date02_wgt = widgets.DatePicker(\n",
    "    description='To',\n",
    "    value = dt.date(2022, 1,1),\n",
    "    layout=widgets.Layout(width=\"215px\")\n",
    ")"
   ]
  },
  {
   "cell_type": "code",
   "execution_count": 40,
   "id": "f968cdc3",
   "metadata": {
    "scrolled": true
   },
   "outputs": [
    {
     "data": {
      "application/vnd.jupyter.widget-view+json": {
       "model_id": "fb933dd79e9a471c9d7108a30954f0c9",
       "version_major": 2,
       "version_minor": 0
      },
      "text/plain": [
       "DatePicker(value=datetime.date(2021, 1, 1), description='From', layout=Layout(width='215px'))"
      ]
     },
     "metadata": {},
     "output_type": "display_data"
    }
   ],
   "source": [
    "date01_wgt"
   ]
  },
  {
   "cell_type": "code",
   "execution_count": 41,
   "id": "25495555",
   "metadata": {},
   "outputs": [
    {
     "data": {
      "application/vnd.jupyter.widget-view+json": {
       "model_id": "e7e1a762ce014851b136ce7ab29cf70a",
       "version_major": 2,
       "version_minor": 0
      },
      "text/plain": [
       "DatePicker(value=datetime.date(2022, 1, 1), description='To', layout=Layout(width='215px'))"
      ]
     },
     "metadata": {},
     "output_type": "display_data"
    }
   ],
   "source": [
    "date02_wgt"
   ]
  },
  {
   "cell_type": "code",
   "execution_count": 42,
   "id": "64edcaec",
   "metadata": {},
   "outputs": [],
   "source": [
    "def timer1():    \n",
    "    ss = date01_wgt.value\n",
    "    date01 = \"{}-{:02}-{:02}\".format(ss.year, ss.month, ss.day)\n",
    "    return(date01)\n",
    "    \n",
    "def timer2():\n",
    "    ss = date02_wgt.value\n",
    "    date02 = \"{}-{:02}-{:02}\".format(ss.year, ss.month, ss.day)\n",
    "    return(date02)\n",
    "    \n",
    "    "
   ]
  },
  {
   "cell_type": "code",
   "execution_count": 13,
   "id": "27734712",
   "metadata": {},
   "outputs": [
    {
     "data": {
      "application/vnd.jupyter.widget-view+json": {
       "model_id": "90c7115dd8794f279024d39823126b72",
       "version_major": 2,
       "version_minor": 0
      },
      "text/plain": [
       "HBox(children=(Dropdown(description='Layer:', options=('Aerosol', 'Cloud', 'NO2', 'CO', 'CH2O', 'O3', 'SO2', '…"
      ]
     },
     "metadata": {},
     "output_type": "display_data"
    }
   ],
   "source": [
    "#button_conf = widgets.Button(description='Ok', button_style='primary', tooltip='Click me', layout=widgets.Layout(width=\"40px\"))\n",
    "output_2 = widgets.Output()\n",
    "\n",
    "layer = widgets.Dropdown(\n",
    "    options=[\"Aerosol\", \"Cloud\", \"NO2\", \"CO\", \"CH2O\", 'O3', 'SO2', \"CH4\"],\n",
    "    value=None,\n",
    "    description=\"Layer:\",\n",
    "    #layout=widgets.Layout(width=widget_width, padding=padding),\n",
    "    style={\"description_width\": \"initial\"},\n",
    ")\n",
    "widgets.HBox([layer])"
   ]
  },
  {
   "cell_type": "code",
   "execution_count": 14,
   "id": "ac04a40c",
   "metadata": {},
   "outputs": [
    {
     "data": {
      "application/vnd.jupyter.widget-view+json": {
       "model_id": "1e9410d0c1bc4919b89c042f5333b356",
       "version_major": 2,
       "version_minor": 0
      },
      "text/plain": [
       "VBox(children=(Dropdown(description='Band:', options=('comino', 'ajo'), style=DescriptionStyle(description_wid…"
      ]
     },
     "metadata": {},
     "output_type": "display_data"
    }
   ],
   "source": [
    "band_wdg = widgets.Dropdown(\n",
    "            options=[\"comino\", \"ajo\"],\n",
    "            value=None,\n",
    "            description=\"Band:\",\n",
    "            #layout=widgets.Layout(width=widget_width, padding=padding),\n",
    "            style={\"description_width\": \"initial\"},\n",
    "        )\n",
    "prubox = widgets.VBox([band_wdg, output_2])\n",
    "prubox"
   ]
  },
  {
   "cell_type": "code",
   "execution_count": 15,
   "id": "4ce2d9aa",
   "metadata": {},
   "outputs": [],
   "source": [
    "def handle_dropdwn_click(change):\n",
    "    \n",
    "    if change['new'] == 'Aerosol':\n",
    "        band_wdg.options = [\"absorbing_aerosol_index\",\n",
    "                            \"sensor_altitude\", \n",
    "                            \"sensor_azimuth_angle\",\n",
    "                            \"sensor_zenith_angle\",\n",
    "                            \"solar_azimuth_angle\",\n",
    "                            \"solar_zenith_angle\"]\n",
    "    \n",
    "    elif change['new'] == 'Cloud':\n",
    "        band_wdg.options = [\"cloud_fraction\",\n",
    "                            \"cloud_top_pressure\",\n",
    "                            \"cloud_top_height\",\n",
    "                            \"cloud_base_pressure\",\n",
    "                            \"cloud_base_height\",\n",
    "                            \"cloud_optical_depth\",\n",
    "                            \"surface_albedo\",\n",
    "                            \"sensor_azimuth_angle\",\n",
    "                            \"sensor_zenith_angle\",\n",
    "                            \"solar_azimuth_angle\",\n",
    "                            \"solar_zenith_angle\"]\n",
    "        \n",
    "    elif change['new'] == 'NO2':\n",
    "        band_wdg.options = [\"NO2_column_number_density\",\n",
    "                            \"tropospheric_NO2_column_number_density\",\n",
    "                            \"stratospheric_NO2_column_number_density\",\n",
    "                            \"NO2_slant_column_number_density\",\n",
    "                            \"tropopause_pressure,\"\n",
    "                            \"absorbing_aerosol_index\",\n",
    "                            \"cloud_fraction\",\n",
    "                            \"sensor_altitude\",\n",
    "                            \"sensor_azimuth_angle\",\n",
    "                            \"sensor_zenith_angle\",\n",
    "                            \"solar_azimuth_angle\",\n",
    "                            \"solar_zenith_angle\"]\n",
    "        \n",
    "    elif change['new'] == 'CO':\n",
    "        band_wdg.options = [\"CO_column_number_density\",\n",
    "                            \"H2O_column_number_density\",\n",
    "                            \"cloud_height\",\n",
    "                            \"sensor_altitude\",\n",
    "                            \"sensor_azimuth_angle\",\n",
    "                            \"sensor_zenith_angle\",\n",
    "                            \"solar_azimuth_angle\",\n",
    "                            \"solar_zenith_angle\"]\n",
    "        \n",
    "    elif change['new'] == 'CH2O':\n",
    "        band_wdg.options = [\"tropospheric_HCHO_column_number_density\",\n",
    "                            \"tropospheric_HCHO_column_number_density_amf\",\n",
    "                            \"HCHO_slant_column_number_density\",\n",
    "                            \"cloud_fraction\",\n",
    "                            \"sensor_azimuth_angle\",\n",
    "                            \"sensor_zenith_angle\",\n",
    "                            \"solar_azimuth_angle\",\n",
    "                            \"solar_zenith_angle\"]\n",
    "        \n",
    "    elif change['new'] == 'O3':\n",
    "        band_wdg.options = [\"O3_column_number_density\",\n",
    "                            \"O3_effective_temperature\",\n",
    "                            \"cloud_fraction\",\n",
    "                            \"sensor_azimuth_angle\",\n",
    "                            \"sensor_zenith_angle\",\n",
    "                            \"solar_azimuth_angle\",\n",
    "                            \"solar_zenith_angle\"]\n",
    "        \n",
    "    elif change['new'] == 'SO2':\n",
    "        band_wdg.options = [\"SO2_column_number_density\",\n",
    "                            \"SO2_column_number_density_amf\",\n",
    "                            \"SO2_slant_column_number_density\",\n",
    "                            \"absorbing_aerosol_index\",\n",
    "                            \"cloud_fraction\",\n",
    "                            \"sensor_azimuth_angle\",\n",
    "                            \"sensor_zenith_angle\",\n",
    "                            \"solar_azimuth_angle\",\n",
    "                            \"solar_zenith_angle\",\n",
    "                            \"SO2_column_number_density_15km\"]\n",
    "        \n",
    "    elif change['new'] == 'CH4':\n",
    "        band_wdg.options = [\"CH4_column_volume_mixing_ratio_dry_air\",\n",
    "                            \"aerosol_height\",\n",
    "                            \"aerosol_optical_depth\",\n",
    "                            \"sensor_azimuth_angle\",\n",
    "                            \"sensor_zenith_angle\",\n",
    "                            \"solar_azimuth_angle\",\n",
    "                            \"solar_zenith_angle\",\n",
    "                            \"CH4_column_volume_mixing_ratio_dry_air_bias_corrected\",\n",
    "                            \"CH4_column_volume_mixing_ratio_dry_air_uncertainty\"]\n",
    "\n",
    "        \n",
    "layer.observe(handle_dropdwn_click, \"value\")"
   ]
  },
  {
   "cell_type": "code",
   "execution_count": 17,
   "id": "4afa7bf8",
   "metadata": {},
   "outputs": [
    {
     "data": {
      "application/vnd.jupyter.widget-view+json": {
       "model_id": "d3ec299b7e844880bf5757ee3e2b92a7",
       "version_major": 2,
       "version_minor": 0
      },
      "text/plain": [
       "VBox(children=(Button(button_style='primary', description='Draw', style=ButtonStyle(), tooltip='Click me'), Ou…"
      ]
     },
     "metadata": {},
     "output_type": "display_data"
    }
   ],
   "source": [
    "button = widgets.Button(description='Draw', button_style='primary', tooltip='Click me', ayout=widgets.Layout(width=\"100px\"))\n",
    "\n",
    "output = widgets.Output()\n",
    "\n",
    "def clicking(b):\n",
    "    with output:\n",
    "        if layer.value == \"Aerosol\":\n",
    "            collection_aerosol = ee.ImageCollection('COPERNICUS/S5P/OFFL/L3_AER_AI') \\\n",
    "  .select('absorbing_aerosol_index') \\\n",
    "  .filterDate(timer1(), timer2())\n",
    "\n",
    "            band_viz = {\n",
    "  'min': -1,\n",
    "  'max': 2.0,\n",
    "  'palette': ['black', 'blue', 'purple', 'cyan', 'green', 'yellow', 'red']\n",
    "}\n",
    "            Map.addLayer(collection_aerosol.mean(), band_viz, 'S5P Aerosol')\n",
    "        \n",
    "        if layer.value == \"Cloud\":\n",
    "            collection_cloud = ee.ImageCollection('COPERNICUS/S5P/OFFL/L3_CLOUD') \\\n",
    "  .select('cloud_fraction') \\\n",
    "  .filterDate(timer1(), timer2())\n",
    "\n",
    "            band_viz = {\n",
    "  'min': 0,\n",
    "  'max': 0.95,\n",
    "  'palette': ['black', 'blue', 'purple', 'cyan', 'green', 'yellow', 'red']\n",
    "}\n",
    "\n",
    "            Map.addLayer(collection_cloud.mean(), band_viz, 'S5P Cloud')\n",
    "        \n",
    "        if layer.value == \"NO2\":\n",
    "            collection_no2 = ee.ImageCollection('COPERNICUS/S5P/OFFL/L3_NO2') \\\n",
    "  .select('tropospheric_NO2_column_number_density') \\\n",
    "  .filterDate(timer1(), timer2())\n",
    "\n",
    "            band_viz = {\n",
    "  'min': 0,\n",
    "  'max': 0.0002,\n",
    "  'palette': ['black', 'blue', 'purple', 'cyan', 'green', 'yellow', 'red']\n",
    "}\n",
    "\n",
    "            Map.addLayer(collection_no2.mean(), band_viz, 'S5P N02')\n",
    "        \n",
    "        if layer.value == \"O3\":\n",
    "            collection_o3 = ee.ImageCollection('COPERNICUS/S5P/OFFL/L3_O3') \\\n",
    "  .select('O3_column_number_density') \\\n",
    "  .filterDate(timer1(), timer2())\n",
    "\n",
    "            band_viz = {\n",
    "  'min': 0.12,\n",
    "  'max': 0.15,\n",
    "  'palette': ['black', 'blue', 'purple', 'cyan', 'green', 'yellow', 'red']\n",
    "}\n",
    "\n",
    "            Map.addLayer(collection_o3.mean(), band_viz, 'S5P O3')\n",
    "            \n",
    "        if layer.value == \"SO2\":\n",
    "            collection_so2 = ee.ImageCollection('COPERNICUS/S5P/OFFL/L3_SO2') \\\n",
    "  .select('SO2_column_number_density') \\\n",
    "  .filterDate(timer1(), timer2())\n",
    "\n",
    "            band_viz = {\n",
    "  'min': 0.0,\n",
    "  'max': 0.0005,\n",
    "  'palette': ['black', 'blue', 'purple', 'cyan', 'green', 'yellow', 'red']\n",
    "}\n",
    "\n",
    "            Map.addLayer(collection_so2.mean(), band_viz, 'S5P SO2')\n",
    "        \n",
    "        if layer.value == \"CH4\":\n",
    "            collection_ch4 = ee.ImageCollection('COPERNICUS/S5P/OFFL/L3_CH4') \\\n",
    "  .select('CH4_column_volume_mixing_ratio_dry_air') \\\n",
    "  .filterDate(timer1(), timer2())\n",
    "\n",
    "            band_viz = {\n",
    "  'min': 1750,\n",
    "  'max': 1900,\n",
    "  'palette': ['black', 'blue', 'purple', 'cyan', 'green', 'yellow', 'red']\n",
    "}\n",
    "\n",
    "            Map.addLayer(collection_ch4.mean(), band_viz, 'S5P CH4')\n",
    "        \n",
    "        if layer.value == \"CO\":\n",
    "            collection_co = ee.ImageCollection('COPERNICUS/S5P/OFFL/L3_CO') \\\n",
    "  .select('CO_column_number_density') \\\n",
    "  .filterDate(timer1(), timer2())\n",
    "\n",
    "            band_viz = {\n",
    "  'min': 0,\n",
    "  'max': 0.05,\n",
    "  'palette': ['black', 'blue', 'purple', 'cyan', 'green', 'yellow', 'red']\n",
    "}\n",
    "\n",
    "            Map.addLayer(collection_co.mean(), band_viz, 'S5P CO')\n",
    "        \n",
    "        if layer.value == \"CH2O\":\n",
    "            collection_ch2o = ee.ImageCollection('COPERNICUS/S5P/OFFL/L3_HCHO') \\\n",
    "  .select('tropospheric_HCHO_column_number_density') \\\n",
    "  .filterDate(timer1(), timer2())\n",
    "\n",
    "            band_viz = {\n",
    "  'min': 0.0,\n",
    "  'max': 0.0003,\n",
    "  'palette': ['black', 'blue', 'purple', 'cyan', 'green', 'yellow', 'red']\n",
    "}\n",
    "\n",
    "            Map.addLayer(collection_ch2o.mean(), band_viz, 'S5P HCHO')\n",
    "        \n",
    "        print(timer1(), timer2())\n",
    "            \n",
    "button.on_click(clicking)\n",
    "\n",
    "widgets.VBox([button, output])"
   ]
  },
  {
   "cell_type": "code",
   "execution_count": 45,
   "id": "9a15ff9a",
   "metadata": {},
   "outputs": [
    {
     "name": "stdout",
     "output_type": "stream",
     "text": [
      "2021-01-01 2022-01-01\n"
     ]
    }
   ],
   "source": [
    "print(timer1(), timer2())"
   ]
  },
  {
   "cell_type": "code",
   "execution_count": null,
   "id": "9edb2c40",
   "metadata": {},
   "outputs": [],
   "source": []
  }
 ],
 "metadata": {
  "kernelspec": {
   "display_name": "Python 3 (ipykernel)",
   "language": "python",
   "name": "python3"
  },
  "language_info": {
   "codemirror_mode": {
    "name": "ipython",
    "version": 3
   },
   "file_extension": ".py",
   "mimetype": "text/x-python",
   "name": "python",
   "nbconvert_exporter": "python",
   "pygments_lexer": "ipython3",
   "version": "3.9.7"
  }
 },
 "nbformat": 4,
 "nbformat_minor": 5
}
