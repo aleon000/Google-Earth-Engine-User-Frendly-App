{
 "cells": [
  {
   "cell_type": "code",
   "execution_count": 56,
   "id": "ac7fd0ca",
   "metadata": {},
   "outputs": [],
   "source": [
    "import geemap\n",
    "import ee\n",
    "import ipywidgets as widgets\n",
    "from ipyleaflet import WidgetControl\n",
    "import datetime as dt\n",
    "import numpy as np\n",
    "import os"
   ]
  },
  {
   "cell_type": "code",
   "execution_count": 114,
   "id": "a790fb42",
   "metadata": {
    "scrolled": true
   },
   "outputs": [
    {
     "data": {
      "text/html": [
       "<p>To authorize access needed by Earth Engine, open the following\n",
       "        URL in a web browser and follow the instructions:</p>\n",
       "        <p><a href=https://accounts.google.com/o/oauth2/auth?client_id=517222506229-vsmmajv00ul0bs7p89v5m89qs8eb9359.apps.googleusercontent.com&scope=https%3A%2F%2Fwww.googleapis.com%2Fauth%2Fearthengine+https%3A%2F%2Fwww.googleapis.com%2Fauth%2Fdevstorage.full_control&redirect_uri=urn%3Aietf%3Awg%3Aoauth%3A2.0%3Aoob&response_type=code&code_challenge=QdsKQnmghyIWPAWkgwwYQAlvqhi2rU9EpQS_uAqhhoM&code_challenge_method=S256>https://accounts.google.com/o/oauth2/auth?client_id=517222506229-vsmmajv00ul0bs7p89v5m89qs8eb9359.apps.googleusercontent.com&scope=https%3A%2F%2Fwww.googleapis.com%2Fauth%2Fearthengine+https%3A%2F%2Fwww.googleapis.com%2Fauth%2Fdevstorage.full_control&redirect_uri=urn%3Aietf%3Awg%3Aoauth%3A2.0%3Aoob&response_type=code&code_challenge=QdsKQnmghyIWPAWkgwwYQAlvqhi2rU9EpQS_uAqhhoM&code_challenge_method=S256</a></p>\n",
       "        <p>The authorization workflow will generate a code, which you\n",
       "        should paste in the box below</p>\n",
       "        "
      ],
      "text/plain": [
       "<IPython.core.display.HTML object>"
      ]
     },
     "metadata": {},
     "output_type": "display_data"
    },
    {
     "ename": "KeyboardInterrupt",
     "evalue": "Interrupted by user",
     "output_type": "error",
     "traceback": [
      "\u001b[1;31m---------------------------------------------------------------------------\u001b[0m",
      "\u001b[1;31mKeyboardInterrupt\u001b[0m                         Traceback (most recent call last)",
      "Input \u001b[1;32mIn [114]\u001b[0m, in \u001b[0;36m<cell line: 1>\u001b[1;34m()\u001b[0m\n\u001b[1;32m----> 1\u001b[0m \u001b[43mee\u001b[49m\u001b[38;5;241;43m.\u001b[39;49m\u001b[43mAuthenticate\u001b[49m\u001b[43m(\u001b[49m\u001b[43m)\u001b[49m\n",
      "File \u001b[1;32m~\\anaconda3\\envs\\gee\\lib\\site-packages\\ee\\__init__.py:89\u001b[0m, in \u001b[0;36mAuthenticate\u001b[1;34m(authorization_code, quiet, code_verifier)\u001b[0m\n\u001b[0;32m     78\u001b[0m \u001b[38;5;28;01mdef\u001b[39;00m \u001b[38;5;21mAuthenticate\u001b[39m(\n\u001b[0;32m     79\u001b[0m     authorization_code\u001b[38;5;241m=\u001b[39m\u001b[38;5;28;01mNone\u001b[39;00m,\n\u001b[0;32m     80\u001b[0m     quiet\u001b[38;5;241m=\u001b[39m\u001b[38;5;28;01mNone\u001b[39;00m,\n\u001b[0;32m     81\u001b[0m     code_verifier\u001b[38;5;241m=\u001b[39m\u001b[38;5;28;01mNone\u001b[39;00m):\n\u001b[0;32m     82\u001b[0m   \u001b[38;5;124;03m\"\"\"Prompts the user to authorize access to Earth Engine via OAuth2.\u001b[39;00m\n\u001b[0;32m     83\u001b[0m \n\u001b[0;32m     84\u001b[0m \u001b[38;5;124;03m  Args:\u001b[39;00m\n\u001b[1;32m   (...)\u001b[0m\n\u001b[0;32m     87\u001b[0m \u001b[38;5;124;03m    code_verifier: PKCE verifier to prevent auth code stealing.\u001b[39;00m\n\u001b[0;32m     88\u001b[0m \u001b[38;5;124;03m  \"\"\"\u001b[39;00m\n\u001b[1;32m---> 89\u001b[0m   \u001b[43moauth\u001b[49m\u001b[38;5;241;43m.\u001b[39;49m\u001b[43mauthenticate\u001b[49m\u001b[43m(\u001b[49m\u001b[43mauthorization_code\u001b[49m\u001b[43m,\u001b[49m\u001b[43m \u001b[49m\u001b[43mquiet\u001b[49m\u001b[43m,\u001b[49m\u001b[43m \u001b[49m\u001b[43mcode_verifier\u001b[49m\u001b[43m)\u001b[49m\n",
      "File \u001b[1;32m~\\anaconda3\\envs\\gee\\lib\\site-packages\\ee\\oauth.py:235\u001b[0m, in \u001b[0;36mauthenticate\u001b[1;34m(cli_authorization_code, quiet, cli_code_verifier)\u001b[0m\n\u001b[0;32m    232\u001b[0m   _display_auth_instructions_with_print(auth_url)\n\u001b[0;32m    233\u001b[0m webbrowser\u001b[38;5;241m.\u001b[39mopen_new(auth_url)\n\u001b[1;32m--> 235\u001b[0m \u001b[43m_obtain_and_write_token\u001b[49m\u001b[43m(\u001b[49m\u001b[38;5;28;43;01mNone\u001b[39;49;00m\u001b[43m,\u001b[49m\u001b[43m \u001b[49m\u001b[43mcode_verifier\u001b[49m\u001b[43m)\u001b[49m\n",
      "File \u001b[1;32m~\\anaconda3\\envs\\gee\\lib\\site-packages\\ee\\oauth.py:139\u001b[0m, in \u001b[0;36m_obtain_and_write_token\u001b[1;34m(auth_code, code_verifier)\u001b[0m\n\u001b[0;32m    137\u001b[0m \u001b[38;5;124;03m\"\"\"Obtains and writes credentials token based on a authorization code.\"\"\"\u001b[39;00m\n\u001b[0;32m    138\u001b[0m \u001b[38;5;28;01mif\u001b[39;00m \u001b[38;5;129;01mnot\u001b[39;00m auth_code:\n\u001b[1;32m--> 139\u001b[0m   auth_code \u001b[38;5;241m=\u001b[39m \u001b[38;5;28;43minput\u001b[39;49m\u001b[43m(\u001b[49m\u001b[38;5;124;43m'\u001b[39;49m\u001b[38;5;124;43mEnter verification code: \u001b[39;49m\u001b[38;5;124;43m'\u001b[39;49m\u001b[43m)\u001b[49m\n\u001b[0;32m    140\u001b[0m \u001b[38;5;28;01massert\u001b[39;00m \u001b[38;5;28misinstance\u001b[39m(auth_code, six\u001b[38;5;241m.\u001b[39mstring_types)\n\u001b[0;32m    141\u001b[0m token \u001b[38;5;241m=\u001b[39m request_token(auth_code\u001b[38;5;241m.\u001b[39mstrip(), code_verifier)\n",
      "File \u001b[1;32m~\\anaconda3\\envs\\gee\\lib\\site-packages\\ipykernel\\kernelbase.py:1075\u001b[0m, in \u001b[0;36mKernel.raw_input\u001b[1;34m(self, prompt)\u001b[0m\n\u001b[0;32m   1071\u001b[0m \u001b[38;5;28;01mif\u001b[39;00m \u001b[38;5;129;01mnot\u001b[39;00m \u001b[38;5;28mself\u001b[39m\u001b[38;5;241m.\u001b[39m_allow_stdin:\n\u001b[0;32m   1072\u001b[0m     \u001b[38;5;28;01mraise\u001b[39;00m StdinNotImplementedError(\n\u001b[0;32m   1073\u001b[0m         \u001b[38;5;124m\"\u001b[39m\u001b[38;5;124mraw_input was called, but this frontend does not support input requests.\u001b[39m\u001b[38;5;124m\"\u001b[39m\n\u001b[0;32m   1074\u001b[0m     )\n\u001b[1;32m-> 1075\u001b[0m \u001b[38;5;28;01mreturn\u001b[39;00m \u001b[38;5;28;43mself\u001b[39;49m\u001b[38;5;241;43m.\u001b[39;49m\u001b[43m_input_request\u001b[49m\u001b[43m(\u001b[49m\n\u001b[0;32m   1076\u001b[0m \u001b[43m    \u001b[49m\u001b[38;5;28;43mstr\u001b[39;49m\u001b[43m(\u001b[49m\u001b[43mprompt\u001b[49m\u001b[43m)\u001b[49m\u001b[43m,\u001b[49m\n\u001b[0;32m   1077\u001b[0m \u001b[43m    \u001b[49m\u001b[38;5;28;43mself\u001b[39;49m\u001b[38;5;241;43m.\u001b[39;49m\u001b[43m_parent_ident\u001b[49m\u001b[43m[\u001b[49m\u001b[38;5;124;43m\"\u001b[39;49m\u001b[38;5;124;43mshell\u001b[39;49m\u001b[38;5;124;43m\"\u001b[39;49m\u001b[43m]\u001b[49m\u001b[43m,\u001b[49m\n\u001b[0;32m   1078\u001b[0m \u001b[43m    \u001b[49m\u001b[38;5;28;43mself\u001b[39;49m\u001b[38;5;241;43m.\u001b[39;49m\u001b[43mget_parent\u001b[49m\u001b[43m(\u001b[49m\u001b[38;5;124;43m\"\u001b[39;49m\u001b[38;5;124;43mshell\u001b[39;49m\u001b[38;5;124;43m\"\u001b[39;49m\u001b[43m)\u001b[49m\u001b[43m,\u001b[49m\n\u001b[0;32m   1079\u001b[0m \u001b[43m    \u001b[49m\u001b[43mpassword\u001b[49m\u001b[38;5;241;43m=\u001b[39;49m\u001b[38;5;28;43;01mFalse\u001b[39;49;00m\u001b[43m,\u001b[49m\n\u001b[0;32m   1080\u001b[0m \u001b[43m\u001b[49m\u001b[43m)\u001b[49m\n",
      "File \u001b[1;32m~\\anaconda3\\envs\\gee\\lib\\site-packages\\ipykernel\\kernelbase.py:1120\u001b[0m, in \u001b[0;36mKernel._input_request\u001b[1;34m(self, prompt, ident, parent, password)\u001b[0m\n\u001b[0;32m   1117\u001b[0m             \u001b[38;5;28;01mbreak\u001b[39;00m\n\u001b[0;32m   1118\u001b[0m \u001b[38;5;28;01mexcept\u001b[39;00m \u001b[38;5;167;01mKeyboardInterrupt\u001b[39;00m:\n\u001b[0;32m   1119\u001b[0m     \u001b[38;5;66;03m# re-raise KeyboardInterrupt, to truncate traceback\u001b[39;00m\n\u001b[1;32m-> 1120\u001b[0m     \u001b[38;5;28;01mraise\u001b[39;00m \u001b[38;5;167;01mKeyboardInterrupt\u001b[39;00m(\u001b[38;5;124m\"\u001b[39m\u001b[38;5;124mInterrupted by user\u001b[39m\u001b[38;5;124m\"\u001b[39m) \u001b[38;5;28;01mfrom\u001b[39;00m \u001b[38;5;28mNone\u001b[39m\n\u001b[0;32m   1121\u001b[0m \u001b[38;5;28;01mexcept\u001b[39;00m \u001b[38;5;167;01mException\u001b[39;00m:\n\u001b[0;32m   1122\u001b[0m     \u001b[38;5;28mself\u001b[39m\u001b[38;5;241m.\u001b[39mlog\u001b[38;5;241m.\u001b[39mwarning(\u001b[38;5;124m\"\u001b[39m\u001b[38;5;124mInvalid Message:\u001b[39m\u001b[38;5;124m\"\u001b[39m, exc_info\u001b[38;5;241m=\u001b[39m\u001b[38;5;28;01mTrue\u001b[39;00m)\n",
      "\u001b[1;31mKeyboardInterrupt\u001b[0m: Interrupted by user"
     ]
    }
   ],
   "source": [
    "ee.Authenticate()"
   ]
  },
  {
   "cell_type": "code",
   "execution_count": 57,
   "id": "a39635ee",
   "metadata": {},
   "outputs": [
    {
     "data": {
      "application/vnd.jupyter.widget-view+json": {
       "model_id": "59342dc2754d412da3a3f17e480f05e5",
       "version_major": 2,
       "version_minor": 0
      },
      "text/plain": [
       "Map(center=[20, 0], controls=(WidgetControl(options=['position', 'transparent_bg'], widget=HBox(children=(Togg…"
      ]
     },
     "metadata": {},
     "output_type": "display_data"
    }
   ],
   "source": [
    "#Mapa de gee\n",
    "\n",
    "Map = geemap.Map()\n",
    "Map"
   ]
  },
  {
   "cell_type": "code",
   "execution_count": 58,
   "id": "46ffc856",
   "metadata": {},
   "outputs": [],
   "source": [
    "# CREACION DE WIDGETS"
   ]
  },
  {
   "cell_type": "code",
   "execution_count": 59,
   "id": "55f9bc73",
   "metadata": {},
   "outputs": [],
   "source": [
    "# Creamos un widget para modificar la fecha de inicio\n",
    "date01_wgt = widgets.DatePicker(\n",
    "    description='From date:',\n",
    "    value = dt.date(2021, 1, 1),\n",
    "    #style={\"description_width\": \"initial\"},\n",
    "    layout=widgets.Layout(width=\"215px\")\n",
    ")\n",
    "\n",
    "# Creamos un widget para modificar la fecha de final\n",
    "date02_wgt = widgets.DatePicker(\n",
    "    description='To date:',\n",
    "    value = dt.date(2022, 1,1),\n",
    "    layout=widgets.Layout(width=\"215px\")\n",
    ")\n",
    "\n",
    "#Box de los widgets\n",
    "date_wgt = widgets.HBox([date01_wgt, date02_wgt])"
   ]
  },
  {
   "cell_type": "code",
   "execution_count": 60,
   "id": "4630c1cd",
   "metadata": {},
   "outputs": [],
   "source": [
    "#Widget con un cuadro de texto para definir el ImageCollection\n",
    "img_coll_wgt = widgets.Text(\n",
    "    value='',\n",
    "    placeholder='e.g. MODIS/006/MOD11A1',\n",
    "    description='ImageColl:',\n",
    "    layout=widgets.Layout(width=\"300px\"),\n",
    "    #style={'description_width': 'initial'},\n",
    "    disabled=False    \n",
    ")"
   ]
  },
  {
   "cell_type": "code",
   "execution_count": 61,
   "id": "7802d34a",
   "metadata": {},
   "outputs": [],
   "source": [
    "#Widget con un cuadro de texto para definir la banda del ImageCollection\n",
    "band_wgt = widgets.Text(\n",
    "    value='',\n",
    "    placeholder='e.g. LST_Day_1km, B4, B5 ',\n",
    "    description='Band:',\n",
    "    layout=widgets.Layout(width=\"300px\"),\n",
    "    #style={\"description_width\": \"initial\"},\n",
    "    disabled=False\n",
    ")"
   ]
  },
  {
   "cell_type": "code",
   "execution_count": 62,
   "id": "1584a7a8",
   "metadata": {},
   "outputs": [],
   "source": [
    "#Widget cuadro de texto para añadir la paleta\n",
    "pal = widgets.Textarea(\n",
    "    value=\"\",\n",
    "    placeholder=\"e.g. '040274', '040281', '0502a3', '0502b8', '0502ce', '0502e6'\",\n",
    "    description='Palette: ',\n",
    "    layout=widgets.Layout(width=\"400px\"),\n",
    "    #style={\"description_width\": \"initial\"},\n",
    "    disabled=False\n",
    ")"
   ]
  },
  {
   "cell_type": "code",
   "execution_count": 63,
   "id": "e4854f8b",
   "metadata": {},
   "outputs": [],
   "source": [
    "#Widgets max min para el rango de visualizacion\n",
    "vis_range1 = widgets.FloatText(\n",
    "    value=0,\n",
    "    description='VisRange: Min',\n",
    "    layout=widgets.Layout(width=\"200px\"),\n",
    "    style = {'description_width': 'initial'},\n",
    "    disabled=False\n",
    "    \n",
    ")\n",
    "\n",
    "vis_range2 = widgets.FloatText(\n",
    "    value=0,\n",
    "    description='Max',\n",
    "    layout=widgets.Layout(width=\"200px\"),\n",
    "    \n",
    "    disabled=False\n",
    ")\n",
    "\n",
    "#Box para representacion de los rango de vis.\n",
    "pal_range_box = widgets.HBox([vis_range1, vis_range2])"
   ]
  },
  {
   "cell_type": "code",
   "execution_count": 64,
   "id": "8d23c034",
   "metadata": {},
   "outputs": [],
   "source": [
    "#Widget con un cuadro de texto para definir la banda del ImageCollection anterior\n",
    "layer_name = widgets.Text(\n",
    "    value='',\n",
    "    placeholder='e.g: layer_1',\n",
    "    description='Layer Name:',\n",
    "    layout=widgets.Layout(width=\"300px\"),\n",
    "    #style = {'description_width': 'initial'},\n",
    "    disabled=False\n",
    ")"
   ]
  },
  {
   "cell_type": "code",
   "execution_count": 65,
   "id": "8c5e3a81",
   "metadata": {},
   "outputs": [],
   "source": [
    "#Widget boton para cargar la funcion param()\n",
    "button = widgets.Button(\n",
    "    description='Load Parameters', \n",
    "    button_style='primary',\n",
    "    tooltip='Click me'\n",
    ")\n",
    "\n",
    "#Widget que utilizaremos en la funcion param()\n",
    "output = widgets.Output()\n",
    "\n",
    "#Box con widget button y output\n",
    "button_box = widgets.VBox([button, output])"
   ]
  },
  {
   "cell_type": "code",
   "execution_count": 66,
   "id": "943f7b5a",
   "metadata": {},
   "outputs": [],
   "source": [
    "#Widget para elegir las imagens disponibles del imageCollection y su output\n",
    "output_2 = widgets.Output()\n",
    "\n",
    "image_wgt = widgets.Dropdown(\n",
    "    options='',\n",
    "    value=None,\n",
    "    description=\"Image:\",\n",
    "    #layout=widgets.Layout(width=widget_width, padding=padding),\n",
    "    #style={\"description_width\": \"initial\"}\n",
    ")\n",
    "\n",
    "#Box con image_wgt y output_2\n",
    "image_wgt_box = widgets.VBox([image_wgt, output_2])"
   ]
  },
  {
   "cell_type": "code",
   "execution_count": 67,
   "id": "9812d365",
   "metadata": {},
   "outputs": [],
   "source": [
    "#Widget con el tipo de reduction que se quiere aplicar al imageCollection\n",
    "reduce_wgt = widgets.Dropdown(\n",
    "    options=['mean', 'min', 'max', 'median', 'sum'],\n",
    "    value='mean',\n",
    "    description='Reduce:',\n",
    "    layout=widgets.Layout(width=\"300px\"),\n",
    "    disabled=False,\n",
    "    #style={\"description_width\": \"initial\"}\n",
    ")"
   ]
  },
  {
   "cell_type": "code",
   "execution_count": 68,
   "id": "c0b1b9d7",
   "metadata": {},
   "outputs": [
    {
     "data": {
      "application/vnd.jupyter.widget-view+json": {
       "model_id": "6c5f4e3bbdc24ef59f74857cffbcab38",
       "version_major": 2,
       "version_minor": 0
      },
      "text/plain": [
       "Text(value='', description='File Name:', layout=Layout(width='300px'), placeholder='download_file', style=Desc…"
      ]
     },
     "metadata": {},
     "output_type": "display_data"
    }
   ],
   "source": [
    "#Widget que define el nombre del archivo de a descargar con las estadisticas\n",
    "download_name_wgt = widgets.Text(\n",
    "    value='',\n",
    "    placeholder='file.csv, .geojson, .kml, .kmz, .shp',\n",
    "    description='File Name:',\n",
    "    layout=widgets.Layout(width=\"300px\"),\n",
    "    style = {'description_width': 'initial'},\n",
    "    disabled=False\n",
    ")"
   ]
  },
  {
   "cell_type": "code",
   "execution_count": 69,
   "id": "0ca263bd",
   "metadata": {},
   "outputs": [
    {
     "data": {
      "application/vnd.jupyter.widget-view+json": {
       "model_id": "4d72a92896a74b0688c9fae42c10ef7c",
       "version_major": 2,
       "version_minor": 0
      },
      "text/plain": [
       "Dropdown(description='Statistic:', layout=Layout(width='300px'), options=('MEAN', 'MIN', 'MAX', 'MEDIAN', 'SUM…"
      ]
     },
     "metadata": {},
     "output_type": "display_data"
    }
   ],
   "source": [
    "#Widget que define el tipo de estadistico que se aplica al archivo de descarga\n",
    "stat_wgt = widgets.Dropdown(\n",
    "    options=['MEAN', 'MIN', 'MAX', 'MEDIAN', 'SUM'],\n",
    "    value='MEAN',\n",
    "    description='Statistic:',\n",
    "    layout=widgets.Layout(width=\"300px\"),\n",
    "    disabled=False,\n",
    "    #style={\"description_width\": \"initial\"}\n",
    ")"
   ]
  },
  {
   "cell_type": "code",
   "execution_count": 70,
   "id": "4a250933",
   "metadata": {},
   "outputs": [
    {
     "data": {
      "application/vnd.jupyter.widget-view+json": {
       "model_id": "0bfac0dfce87427ca4dd2fdbec62178e",
       "version_major": 2,
       "version_minor": 0
      },
      "text/plain": [
       "VBox(children=(Button(button_style='primary', description='Download Stats', style=ButtonStyle(), tooltip='Clic…"
      ]
     },
     "metadata": {},
     "output_type": "display_data"
    },
    {
     "ename": "TypeError",
     "evalue": "get_stats() takes 0 positional arguments but 1 was given",
     "output_type": "error",
     "traceback": [
      "\u001b[1;31m---------------------------------------------------------------------------\u001b[0m",
      "\u001b[1;31mTypeError\u001b[0m                                 Traceback (most recent call last)",
      "\u001b[1;31mTypeError\u001b[0m: get_stats() takes 0 positional arguments but 1 was given"
     ]
    },
    {
     "ename": "TypeError",
     "evalue": "get_stats() takes 0 positional arguments but 1 was given",
     "output_type": "error",
     "traceback": [
      "\u001b[1;31m---------------------------------------------------------------------------\u001b[0m",
      "\u001b[1;31mTypeError\u001b[0m                                 Traceback (most recent call last)",
      "\u001b[1;31mTypeError\u001b[0m: get_stats() takes 0 positional arguments but 1 was given"
     ]
    },
    {
     "ename": "TypeError",
     "evalue": "get_stats() takes 0 positional arguments but 1 was given",
     "output_type": "error",
     "traceback": [
      "\u001b[1;31m---------------------------------------------------------------------------\u001b[0m",
      "\u001b[1;31mTypeError\u001b[0m                                 Traceback (most recent call last)",
      "\u001b[1;31mTypeError\u001b[0m: get_stats() takes 0 positional arguments but 1 was given"
     ]
    },
    {
     "ename": "TypeError",
     "evalue": "get_stats() takes 0 positional arguments but 1 was given",
     "output_type": "error",
     "traceback": [
      "\u001b[1;31m---------------------------------------------------------------------------\u001b[0m",
      "\u001b[1;31mTypeError\u001b[0m                                 Traceback (most recent call last)",
      "\u001b[1;31mTypeError\u001b[0m: get_stats() takes 0 positional arguments but 1 was given"
     ]
    },
    {
     "ename": "TypeError",
     "evalue": "get_stats() takes 0 positional arguments but 1 was given",
     "output_type": "error",
     "traceback": [
      "\u001b[1;31m---------------------------------------------------------------------------\u001b[0m",
      "\u001b[1;31mTypeError\u001b[0m                                 Traceback (most recent call last)",
      "\u001b[1;31mTypeError\u001b[0m: get_stats() takes 0 positional arguments but 1 was given"
     ]
    },
    {
     "ename": "TypeError",
     "evalue": "get_stats() takes 0 positional arguments but 1 was given",
     "output_type": "error",
     "traceback": [
      "\u001b[1;31m---------------------------------------------------------------------------\u001b[0m",
      "\u001b[1;31mTypeError\u001b[0m                                 Traceback (most recent call last)",
      "\u001b[1;31mTypeError\u001b[0m: get_stats() takes 0 positional arguments but 1 was given"
     ]
    },
    {
     "ename": "TypeError",
     "evalue": "get_stats() takes 0 positional arguments but 1 was given",
     "output_type": "error",
     "traceback": [
      "\u001b[1;31m---------------------------------------------------------------------------\u001b[0m",
      "\u001b[1;31mTypeError\u001b[0m                                 Traceback (most recent call last)",
      "\u001b[1;31mTypeError\u001b[0m: get_stats() takes 0 positional arguments but 1 was given"
     ]
    },
    {
     "ename": "TypeError",
     "evalue": "get_stats() takes 0 positional arguments but 1 was given",
     "output_type": "error",
     "traceback": [
      "\u001b[1;31m---------------------------------------------------------------------------\u001b[0m",
      "\u001b[1;31mTypeError\u001b[0m                                 Traceback (most recent call last)",
      "\u001b[1;31mTypeError\u001b[0m: get_stats() takes 0 positional arguments but 1 was given"
     ]
    },
    {
     "ename": "TypeError",
     "evalue": "get_stats() takes 0 positional arguments but 1 was given",
     "output_type": "error",
     "traceback": [
      "\u001b[1;31m---------------------------------------------------------------------------\u001b[0m",
      "\u001b[1;31mTypeError\u001b[0m                                 Traceback (most recent call last)",
      "\u001b[1;31mTypeError\u001b[0m: get_stats() takes 0 positional arguments but 1 was given"
     ]
    }
   ],
   "source": [
    "#Widget boton para cargar la funcion get_stats()\n",
    "button2 = widgets.Button(\n",
    "    description='Download Stats', \n",
    "    button_style='primary',\n",
    "    tooltip='Click me'\n",
    ")\n",
    "\n",
    "output_3 = widgets.Output()\n",
    "\n",
    "#Box con widget button y output\n",
    "button2_box = widgets.VBox([button2, output_3])"
   ]
  },
  {
   "cell_type": "code",
   "execution_count": 71,
   "id": "f2be239d",
   "metadata": {},
   "outputs": [],
   "source": [
    "# FUNCIONES"
   ]
  },
  {
   "cell_type": "code",
   "execution_count": 72,
   "id": "919cb2f2",
   "metadata": {},
   "outputs": [],
   "source": [
    "#Funciones para fecha de inicio y final respectivamente. Devuelven fechas con formato\n",
    "def timer1():    \n",
    "    ss = date01_wgt.value\n",
    "    date01 = \"{}-{:02}-{:02}\".format(ss.year, ss.month, ss.day)\n",
    "    return(date01)\n",
    "    \n",
    "def timer2():\n",
    "    ss = date02_wgt.value\n",
    "    date02 = \"{}-{:02}-{:02}\".format(ss.year, ss.month, ss.day)\n",
    "    return(date02)\n",
    "    \n",
    "    "
   ]
  },
  {
   "cell_type": "code",
   "execution_count": 73,
   "id": "623a71d6",
   "metadata": {},
   "outputs": [],
   "source": [
    "#Analiza si el valor de image_wgt ha cambiado, si lo hace cambian las opciones\n",
    "def handle_dropdwn_click(change):\n",
    "    \n",
    "    #Si la banda es mas de una, las lista\n",
    "    if band_wgt.value == '':\n",
    "        print('add a valid band to continue')\n",
    "    else:\n",
    "        band_val = band_wgt.value.replace(\",\", \"\")\n",
    "        band_val = band_val.split()\n",
    "    \n",
    "    #Input teniendo en cuenta la lista de band_val (se modifica respecto a appweb2_v2_15112022)\n",
    "    img_check = ee.ImageCollection(img_coll_wgt.value)\\\n",
    "        .filterDate(timer1(), timer2())\n",
    "    \n",
    "    #Analiza si cambia el valor de img_coll_wgt y si lo hace, carga la lista de imagenes disponibles dentro de la coleccion\n",
    "    #(se modifica respecto a appweb2_v2_15112022)\n",
    "    if change['new'] != '':\n",
    "        img_list = img_check.aggregate_array(\"system:id\").getInfo()\n",
    "        img_list.insert(0, '')       \n",
    "        image_wgt.options = img_list\n",
    "    else:\n",
    "        print('Add a valid image collection or band')\n",
    "    \n",
    "#Analisis de cambios en el parametro img_coll_wgt.value        \n",
    "img_coll_wgt.observe(handle_dropdwn_click, \"value\")"
   ]
  },
  {
   "cell_type": "code",
   "execution_count": 74,
   "id": "bda28541",
   "metadata": {},
   "outputs": [],
   "source": [
    "#Devuelve los parametros de imageCollection, fecha, banda, reduce y ROI sin cargalo al mapa\n",
    "def param_val():    \n",
    "    #creacion de listas si fuera necesario para band_wgt.value\n",
    "    if band_wgt.value == '':\n",
    "        print('add a valid band to continue')\n",
    "    else:\n",
    "        band_val = band_wgt.value.replace(\",\", \"\")\n",
    "        band_val = band_val.split()                \n",
    "\n",
    "    #Introducimos la coleccion, introduciomos la banda\n",
    "    data_load = ee.ImageCollection(img_coll_wgt.value)\\\n",
    "    .select(band_val)\\\n",
    "    .filterDate(timer1(), timer2())       \n",
    "\n",
    "    #Definimos el estadistico para reducir la imageCollection\n",
    "    if reduce_wgt.value == 'mean':\n",
    "        data_load_reducer = data_load.mean()\n",
    "    elif reduce_wgt.value == 'max':\n",
    "        data_load_reducer = data_load.max()\n",
    "    elif reduce_wgt.value == 'min':\n",
    "        data_load_reducer = data_load.min()\n",
    "    elif reduce_wgt.value == 'median':\n",
    "        data_load_reducer = data_load.median()\n",
    "    elif reduce_wgt.value == 'sum':\n",
    "        data_load_reducer = data_load.sum()\n",
    "\n",
    "    #Se determina si es una image o una imagecollection y si tiene ROI o no. Se modifica data_load\n",
    "    if image_wgt.value == '' and len(Map.draw_features) == 0:\n",
    "        data_load = ee.ImageCollection(img_coll_wgt.value)\\\n",
    "        .select(band_val)\n",
    "        data_load = data_load_reducer \n",
    "    elif image_wgt.value == '' and len(Map.draw_features) != 0:\n",
    "        data_load = ee.ImageCollection(img_coll_wgt.value)\\\n",
    "        .select(band_val)\n",
    "        data_load = data_load_reducer\n",
    "        data_load = data_load.clip(Map.draw_features[0])\n",
    "    elif image_wgt.value != '' and len(Map.draw_features) == 0:\n",
    "        data_load = ee.Image(image_wgt.value)\\\n",
    "        .select(band_val)\n",
    "    elif image_wgt.value != '' and len(Map.draw_features) != 0:\n",
    "        data_load = ee.Image(image_wgt.value)\\\n",
    "        .select(band_val)\\\n",
    "        .clip(Map.draw_features[0])\n",
    "\n",
    "    return(data_load)"
   ]
  },
  {
   "cell_type": "code",
   "execution_count": 75,
   "id": "eb3eab13",
   "metadata": {},
   "outputs": [],
   "source": [
    "#Definimos la funcion param() que cargara los parametros en la aplicacion \n",
    "\n",
    "def param(b):\n",
    "    with output:\n",
    "        #creacion de listas si fuera necesario para band_wgt.value\n",
    "        if band_wgt.value == '':\n",
    "            print('add a valid band to continue')\n",
    "        else:\n",
    "            band_val = band_wgt.value.replace(\",\", \"\")\n",
    "            band_val = band_val.split()                \n",
    "               \n",
    "        #Introducimos la coleccion, introduciomos la banda\n",
    "        data_load = ee.ImageCollection(img_coll_wgt.value)\\\n",
    "        .select(band_val)\\\n",
    "        .filterDate(timer1(), timer2())       \n",
    "        \n",
    "        #Definimos el estadistico para reducir la imageCollection\n",
    "        if reduce_wgt.value == 'mean':\n",
    "            data_load_reducer = data_load.mean()\n",
    "        elif reduce_wgt.value == 'max':\n",
    "            data_load_reducer = data_load.max()\n",
    "        elif reduce_wgt.value == 'min':\n",
    "            data_load_reducer = data_load.min()\n",
    "        elif reduce_wgt.value == 'median':\n",
    "            data_load_reducer = data_load.median()\n",
    "        elif reduce_wgt.value == 'sum':\n",
    "            data_load_reducer = data_load.sum()\n",
    "                    \n",
    "        #Se determina si es una image o una imagecollection y si tiene ROI o no. Se modifica data_load\n",
    "        if image_wgt.value == '' and len(Map.draw_features) == 0:\n",
    "            data_load = ee.ImageCollection(img_coll_wgt.value)\\\n",
    "            .select(band_val)\n",
    "            data_load = data_load_reducer \n",
    "        elif image_wgt.value == '' and len(Map.draw_features) != 0:\n",
    "            data_load = ee.ImageCollection(img_coll_wgt.value)\\\n",
    "            .select(band_val)\n",
    "            data_load = data_load_reducer\n",
    "            data_load = data_load.clip(Map.draw_features[0])\n",
    "        elif image_wgt.value != '' and len(Map.draw_features) == 0:\n",
    "            data_load = ee.Image(image_wgt.value)\\\n",
    "            .select(band_val)\n",
    "        elif image_wgt.value != '' and len(Map.draw_features) != 0:\n",
    "            data_load = ee.Image(image_wgt.value)\\\n",
    "            .select(band_val)\\\n",
    "            .clip(Map.draw_features[0])\n",
    "        \n",
    "        #Comprobación del valor de pal.value, si hay valor, se da formato si no, None\n",
    "        if pal.value == '':\n",
    "            pal_val = None\n",
    "        else:\n",
    "            pal_val = pal.value.replace(\"'\", \"\")\n",
    "            pal_val = pal_val.replace(\",\", \"\")\n",
    "            pal_val = pal_val.split()\n",
    "                \n",
    "        band_vis = {\n",
    "  'min': vis_range1.value, #Añadimos el valor minimo del rango de la paleta\n",
    "  'max': vis_range2.value, #Añadimos el valor maximo del rango de la paleta\n",
    "  'palette': pal_val #Se le da valor al parametro paleta teniendo en cuenta el paso anterior\n",
    "}\n",
    "                \n",
    "        #Cargamos todos los parametros a Map.    \n",
    "        Map.addLayer(data_load, band_vis, layer_name.value)  \n",
    "        \n",
    "#Boton que activa la función param()\n",
    "button.on_click(param)"
   ]
  },
  {
   "cell_type": "code",
   "execution_count": 107,
   "id": "7e66eca3",
   "metadata": {},
   "outputs": [],
   "source": [
    "#obtener estadisticas\n",
    "def get_stats(b):\n",
    "    with output_3:\n",
    "        #Si hay roi, se descarga las estadisticas dentro de este, si no, se imprime mensaje\n",
    "        if len(Map.draw_features) != 0:\n",
    "            out_dir = os.path.join(os.path.expanduser('~'), 'Downloads')\n",
    "            out_dem_stats = os.path.join(out_dir, download_name_wgt.value)\n",
    "            stat_roi = Map.draw_features[0]\n",
    "            stat_coll_roi = ee.FeatureCollection([stat_roi])\n",
    "            geemap.zonal_statistics(param_val(), stat_coll_roi, out_dem_stats, statistics_type=(stat_wgt.value), scale=1000)\n",
    "        else:\n",
    "            print('add a valid area ROI to the map')\n",
    "\n",
    "button2.on_click(get_stats)"
   ]
  },
  {
   "cell_type": "code",
   "execution_count": 77,
   "id": "8da12fca",
   "metadata": {},
   "outputs": [],
   "source": [
    "# FONTEND"
   ]
  },
  {
   "cell_type": "code",
   "execution_count": 111,
   "id": "48dcddf4",
   "metadata": {
    "scrolled": false
   },
   "outputs": [
    {
     "data": {
      "application/vnd.jupyter.widget-view+json": {
       "model_id": "92d0428ab3f54d6f850236a13ac97dd9",
       "version_major": 2,
       "version_minor": 0
      },
      "text/plain": [
       "VBox(children=(Text(value='hola.csv', description='File Name:', layout=Layout(width='300px'), placeholder='dow…"
      ]
     },
     "metadata": {},
     "output_type": "display_data"
    }
   ],
   "source": [
    "#Representamos los widgets para cargar la informacion en el mapa\n",
    "wgts = [date_wgt, band_wgt, img_coll_wgt, image_wgt_box, reduce_wgt, pal, pal_range_box, layer_name]\n",
    "\n",
    "input_wgt = widgets.GridBox(wgts, layout=widgets.Layout(grid_template_columns=\"repeat(3, 570px)\", border='3px solid black'))\n",
    "input_wgt"
   ]
  },
  {
   "cell_type": "code",
   "execution_count": null,
   "id": "78eeb19b",
   "metadata": {},
   "outputs": [],
   "source": [
    "#Representamos el boton para cargar los parametros al mapa\n",
    "button_box"
   ]
  },
  {
   "cell_type": "code",
   "execution_count": 112,
   "id": "68b2b286",
   "metadata": {},
   "outputs": [
    {
     "data": {
      "application/vnd.jupyter.widget-view+json": {
       "model_id": "489505822a8e4862beb2db2a26772bf7",
       "version_major": 2,
       "version_minor": 0
      },
      "text/plain": [
       "VBox(children=(Text(value='hola.csv', description='File Name:', layout=Layout(width='300px'), placeholder='dow…"
      ]
     },
     "metadata": {},
     "output_type": "display_data"
    }
   ],
   "source": [
    "#Representamos los widgets para descargar la informacion estadistica del mapa\n",
    "download_wgt_list = [download_name_wgt, stat_wgt]\n",
    "download_wgt = widgets.GridBox(download_wgt_list, layout=widgets.Layout(grid_template_columns=\"repeat(1, 570px)\", border='3px solid black'))\n",
    "download_wgt"
   ]
  },
  {
   "cell_type": "code",
   "execution_count": null,
   "id": "f9d1b0a6",
   "metadata": {},
   "outputs": [],
   "source": [
    "#Representamos el boton para la descarga de las estadisticas\n",
    "button2_box"
   ]
  },
  {
   "cell_type": "code",
   "execution_count": 81,
   "id": "dc546d63",
   "metadata": {},
   "outputs": [],
   "source": [
    "# PRUEBAS"
   ]
  },
  {
   "cell_type": "code",
   "execution_count": null,
   "id": "c3d7d544",
   "metadata": {
    "scrolled": true
   },
   "outputs": [],
   "source": [
    "#Map.user_roi()"
   ]
  },
  {
   "cell_type": "code",
   "execution_count": null,
   "id": "ad31aafe",
   "metadata": {},
   "outputs": [],
   "source": [
    "#Map.draw_features"
   ]
  },
  {
   "cell_type": "code",
   "execution_count": null,
   "id": "33dc0679",
   "metadata": {},
   "outputs": [],
   "source": [
    "#a = Map.draw_features[0]"
   ]
  },
  {
   "cell_type": "code",
   "execution_count": null,
   "id": "d21151c7",
   "metadata": {},
   "outputs": [],
   "source": [
    "# collection_no2 = ee.ImageCollection('MODIS/006/MCD15A3H') \\\n",
    "#   .select('Fpar') \\\n",
    "#   .filterDate('2005-09-24', '2005-10-05')\\\n",
    "#   .median()\n",
    "\n",
    "# coll_clip = collection_no2.clip(a)\n",
    "\n",
    "# band_viz = {\n",
    "#   'min': 0,\n",
    "#   'max': 100,\n",
    "#   'palette': ['e1e4b4', '999d60', '2ec409', '0a4b06']\n",
    "# }\n",
    "\n",
    "# Map.addLayer(coll_clip, band_viz, '1')"
   ]
  },
  {
   "cell_type": "code",
   "execution_count": null,
   "id": "0d9a0cdf",
   "metadata": {},
   "outputs": [],
   "source": [
    "#min(), max(), mean(), median(), sum()"
   ]
  },
  {
   "cell_type": "code",
   "execution_count": null,
   "id": "68642db6",
   "metadata": {},
   "outputs": [],
   "source": [
    "#Ver la informacion de cada imagen que contiende el imagecollection (collection es image.Collection)\n",
    "#collection.aggregate_array(\"system:id\").getInfo()"
   ]
  }
 ],
 "metadata": {
  "kernelspec": {
   "display_name": "Python 3 (ipykernel)",
   "language": "python",
   "name": "python3"
  },
  "language_info": {
   "codemirror_mode": {
    "name": "ipython",
    "version": 3
   },
   "file_extension": ".py",
   "mimetype": "text/x-python",
   "name": "python",
   "nbconvert_exporter": "python",
   "pygments_lexer": "ipython3",
   "version": "3.9.7"
  }
 },
 "nbformat": 4,
 "nbformat_minor": 5
}
