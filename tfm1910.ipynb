{
 "cells": [
  {
   "cell_type": "code",
   "execution_count": 17,
   "id": "d22f6357",
   "metadata": {},
   "outputs": [],
   "source": [
    "#Introducimos los imports necesarios para las funciones del script\n",
    "\n",
    "import geemap\n",
    "import ee\n",
    "import ipywidgets as widgets\n",
    "from ipyleaflet import WidgetControl\n",
    "import matplotlib.pyplot as plt\n",
    "import matplotlib.dates as mdates\n",
    "import datetime as dt\n",
    "import numpy as np\n",
    "import os"
   ]
  },
  {
   "cell_type": "code",
   "execution_count": 18,
   "id": "20726cd8",
   "metadata": {
    "scrolled": false
   },
   "outputs": [
    {
     "data": {
      "application/vnd.jupyter.widget-view+json": {
       "model_id": "9cb8e70bb8704a3f80e6a6da69100ffd",
       "version_major": 2,
       "version_minor": 0
      },
      "text/plain": [
       "Map(center=[20, 0], controls=(WidgetControl(options=['position', 'transparent_bg'], widget=HBox(children=(Togg…"
      ]
     },
     "metadata": {},
     "output_type": "display_data"
    }
   ],
   "source": [
    "#Generamos un mapa de gee de prueba para ir probando los resultados\n",
    "\n",
    "Map = geemap.Map()\n",
    "Map"
   ]
  },
  {
   "cell_type": "code",
   "execution_count": 34,
   "id": "79d78025",
   "metadata": {},
   "outputs": [],
   "source": [
    "# Creamos un widget para modificar la fecha de inicio\n",
    "date01_wgt = widgets.DatePicker(\n",
    "    description='From',\n",
    "    value = dt.date(2021, 1, 1),\n",
    "    layout=widgets.Layout(width=\"215px\")\n",
    ")\n",
    "# Creamos un widget para modificar la fecha de final\n",
    "date02_wgt = widgets.DatePicker(\n",
    "    description='To',\n",
    "    value = dt.date(2022, 1,1),\n",
    "    layout=widgets.Layout(width=\"215px\")\n",
    ")"
   ]
  },
  {
   "cell_type": "code",
   "execution_count": 35,
   "id": "f968cdc3",
   "metadata": {
    "scrolled": true
   },
   "outputs": [
    {
     "data": {
      "application/vnd.jupyter.widget-view+json": {
       "model_id": "e2005a2898b44df9a89974e24b6e5952",
       "version_major": 2,
       "version_minor": 0
      },
      "text/plain": [
       "DatePicker(value=datetime.date(2021, 1, 1), description='From')"
      ]
     },
     "metadata": {},
     "output_type": "display_data"
    }
   ],
   "source": [
    "#Llamamos al widget de fecha de incio\n",
    "\n",
    "date01_wgt"
   ]
  },
  {
   "cell_type": "code",
   "execution_count": 36,
   "id": "25495555",
   "metadata": {},
   "outputs": [
    {
     "data": {
      "application/vnd.jupyter.widget-view+json": {
       "model_id": "633c5538c573499bb98d87fa89cb33f2",
       "version_major": 2,
       "version_minor": 0
      },
      "text/plain": [
       "DatePicker(value=datetime.date(2022, 1, 1), description='To')"
      ]
     },
     "metadata": {},
     "output_type": "display_data"
    }
   ],
   "source": [
    "#LLamamos al widget fecha final\n",
    "\n",
    "date02_wgt"
   ]
  },
  {
   "cell_type": "code",
   "execution_count": 22,
   "id": "64edcaec",
   "metadata": {},
   "outputs": [],
   "source": [
    "#Definimos la funciones para fecha de inicio y final respectivamente que nos devuelven el valor de las fechas con formato\n",
    "\n",
    "def timer1():    \n",
    "    ss = date01_wgt.value\n",
    "    date01 = \"{}-{:02}-{:02}\".format(ss.year, ss.month, ss.day)\n",
    "    return(date01)\n",
    "    \n",
    "def timer2():\n",
    "    ss = date02_wgt.value\n",
    "    date02 = \"{}-{:02}-{:02}\".format(ss.year, ss.month, ss.day)\n",
    "    return(date02)\n",
    "    \n",
    "    "
   ]
  },
  {
   "cell_type": "code",
   "execution_count": 23,
   "id": "27734712",
   "metadata": {},
   "outputs": [
    {
     "data": {
      "application/vnd.jupyter.widget-view+json": {
       "model_id": "405f23f308c9486bb284b33c26dedd22",
       "version_major": 2,
       "version_minor": 0
      },
      "text/plain": [
       "HBox(children=(Dropdown(description='Layer:', options=('Aerosol', 'Cloud', 'NO2', 'CO', 'CH2O', 'O3', 'SO2', '…"
      ]
     },
     "metadata": {},
     "output_type": "display_data"
    }
   ],
   "source": [
    "#Creamos el widget de layer para poder seleccionar la layer de trabajo, introducimos la laayer en una box horizontal\n",
    "\n",
    "layer = widgets.Dropdown(\n",
    "    options=[\"Aerosol\", \"Cloud\", \"NO2\", \"CO\", \"CH2O\", 'O3', 'SO2', \"CH4\"],\n",
    "    value=None,\n",
    "    description=\"Layer:\",\n",
    "    #layout=widgets.Layout(width=widget_width, padding=padding),\n",
    "    style={\"description_width\": \"initial\"},\n",
    ")\n",
    "widgets.HBox([layer])"
   ]
  },
  {
   "cell_type": "code",
   "execution_count": 24,
   "id": "ac04a40c",
   "metadata": {},
   "outputs": [
    {
     "data": {
      "application/vnd.jupyter.widget-view+json": {
       "model_id": "aa793002094d4509993fa533f1bc72db",
       "version_major": 2,
       "version_minor": 0
      },
      "text/plain": [
       "VBox(children=(Dropdown(description='Band:', options=('comino', 'ajo'), style=DescriptionStyle(description_wid…"
      ]
     },
     "metadata": {},
     "output_type": "display_data"
    }
   ],
   "source": [
    "#Creamos el widget de banda para poder seleccionar la banda que se representa de cada layer. Juntamos la banda y el output en una box vertical. Llamamos a la box\n",
    "\n",
    "output_2 = widgets.Output()\n",
    "\n",
    "band_wdg = widgets.Dropdown(\n",
    "            options=[\"comino\", \"ajo\"],\n",
    "            value=None,\n",
    "            description=\"Band:\",\n",
    "            #layout=widgets.Layout(width=widget_width, padding=padding),\n",
    "            style={\"description_width\": \"initial\"},\n",
    "        )\n",
    "prubox = widgets.VBox([band_wdg, output_2])\n",
    "prubox"
   ]
  },
  {
   "cell_type": "code",
   "execution_count": 25,
   "id": "4ce2d9aa",
   "metadata": {},
   "outputs": [],
   "source": [
    "#Creamos una funcion donde, si cambiamos el tipo de layer en el widget, automaticamente se modifica las opciones que muestra el widget de banda\n",
    "\n",
    "def handle_dropdwn_click(change):\n",
    "    \n",
    "    if change['new'] == 'Aerosol':\n",
    "        band_wdg.options = [\"absorbing_aerosol_index\",\n",
    "                            \"sensor_altitude\", \n",
    "                            \"sensor_azimuth_angle\",\n",
    "                            \"sensor_zenith_angle\",\n",
    "                            \"solar_azimuth_angle\",\n",
    "                            \"solar_zenith_angle\"]\n",
    "    \n",
    "    elif change['new'] == 'Cloud':\n",
    "        band_wdg.options = [\"cloud_fraction\",\n",
    "                            \"cloud_top_pressure\",\n",
    "                            \"cloud_top_height\",\n",
    "                            \"cloud_base_pressure\",\n",
    "                            \"cloud_base_height\",\n",
    "                            \"cloud_optical_depth\",\n",
    "                            \"surface_albedo\",\n",
    "                            \"sensor_azimuth_angle\",\n",
    "                            \"sensor_zenith_angle\",\n",
    "                            \"solar_azimuth_angle\",\n",
    "                            \"solar_zenith_angle\"]\n",
    "        \n",
    "    elif change['new'] == 'NO2':\n",
    "        band_wdg.options = [\"NO2_column_number_density\",\n",
    "                            \"tropospheric_NO2_column_number_density\",\n",
    "                            \"stratospheric_NO2_column_number_density\",\n",
    "                            \"NO2_slant_column_number_density\",\n",
    "                            \"tropopause_pressure,\"\n",
    "                            \"absorbing_aerosol_index\",\n",
    "                            \"cloud_fraction\",\n",
    "                            \"sensor_altitude\",\n",
    "                            \"sensor_azimuth_angle\",\n",
    "                            \"sensor_zenith_angle\",\n",
    "                            \"solar_azimuth_angle\",\n",
    "                            \"solar_zenith_angle\"]\n",
    "        \n",
    "    elif change['new'] == 'CO':\n",
    "        band_wdg.options = [\"CO_column_number_density\",\n",
    "                            \"H2O_column_number_density\",\n",
    "                            \"cloud_height\",\n",
    "                            \"sensor_altitude\",\n",
    "                            \"sensor_azimuth_angle\",\n",
    "                            \"sensor_zenith_angle\",\n",
    "                            \"solar_azimuth_angle\",\n",
    "                            \"solar_zenith_angle\"]\n",
    "        \n",
    "    elif change['new'] == 'CH2O':\n",
    "        band_wdg.options = [\"tropospheric_HCHO_column_number_density\",\n",
    "                            \"tropospheric_HCHO_column_number_density_amf\",\n",
    "                            \"HCHO_slant_column_number_density\",\n",
    "                            \"cloud_fraction\",\n",
    "                            \"sensor_azimuth_angle\",\n",
    "                            \"sensor_zenith_angle\",\n",
    "                            \"solar_azimuth_angle\",\n",
    "                            \"solar_zenith_angle\"]\n",
    "        \n",
    "    elif change['new'] == 'O3':\n",
    "        band_wdg.options = [\"O3_column_number_density\",\n",
    "                            \"O3_effective_temperature\",\n",
    "                            \"cloud_fraction\",\n",
    "                            \"sensor_azimuth_angle\",\n",
    "                            \"sensor_zenith_angle\",\n",
    "                            \"solar_azimuth_angle\",\n",
    "                            \"solar_zenith_angle\"]\n",
    "        \n",
    "    elif change['new'] == 'SO2':\n",
    "        band_wdg.options = [\"SO2_column_number_density\",\n",
    "                            \"SO2_column_number_density_amf\",\n",
    "                            \"SO2_slant_column_number_density\",\n",
    "                            \"absorbing_aerosol_index\",\n",
    "                            \"cloud_fraction\",\n",
    "                            \"sensor_azimuth_angle\",\n",
    "                            \"sensor_zenith_angle\",\n",
    "                            \"solar_azimuth_angle\",\n",
    "                            \"solar_zenith_angle\",\n",
    "                            \"SO2_column_number_density_15km\"]\n",
    "        \n",
    "    elif change['new'] == 'CH4':\n",
    "        band_wdg.options = [\"CH4_column_volume_mixing_ratio_dry_air\",\n",
    "                            \"aerosol_height\",\n",
    "                            \"aerosol_optical_depth\",\n",
    "                            \"sensor_azimuth_angle\",\n",
    "                            \"sensor_zenith_angle\",\n",
    "                            \"solar_azimuth_angle\",\n",
    "                            \"solar_zenith_angle\",\n",
    "                            \"CH4_column_volume_mixing_ratio_dry_air_bias_corrected\",\n",
    "                            \"CH4_column_volume_mixing_ratio_dry_air_uncertainty\"]\n",
    "\n",
    "\n",
    "#Llamamos a la funcion \"handle_dropdwn_click\" en el caso de que \"layer.value\" cambie (revisar) \n",
    "\n",
    "layer.observe(handle_dropdwn_click, \"value\")"
   ]
  },
  {
   "cell_type": "code",
   "execution_count": null,
   "id": "99396d1a",
   "metadata": {},
   "outputs": [],
   "source": [
    "#Agregar aqui el tipo de paleta de colores a elegir (Se prodria añadir)"
   ]
  },
  {
   "cell_type": "code",
   "execution_count": 65,
   "id": "eb1a2be6",
   "metadata": {},
   "outputs": [
    {
     "data": {
      "application/vnd.jupyter.widget-view+json": {
       "model_id": "badacdacaed444348a0be3f660b3fd4a",
       "version_major": 2,
       "version_minor": 0
      },
      "text/plain": [
       "HBox(children=(FloatText(value=0.0, description='Visualization Range:    From:', style=DescriptionStyle(descri…"
      ]
     },
     "metadata": {},
     "output_type": "display_data"
    }
   ],
   "source": [
    "#En esta celda se crea un widget para definir el rango de valores que representa la paleta de colores\n",
    "\n",
    "#Se crea un estilo para que el texto no se solape con la celda en el widget \"vis_range1\"\n",
    "style = {'description_width': 'initial'}\n",
    "\n",
    "vis_range1 = widgets.FloatText(\n",
    "    value=0,\n",
    "    description='Visualization Range:    From:',\n",
    "    style = style,\n",
    "    disabled=False\n",
    "    \n",
    ")\n",
    "\n",
    "vis_range2 = widgets.FloatText(\n",
    "    value=0,\n",
    "    description='To:',\n",
    "    style = style,\n",
    "    disabled=False\n",
    ")\n",
    "\n",
    "#Añadimos ambos widgets en una caja para su representacion\n",
    "pal_range_box = widgets.HBox([vis_range1, vis_range2])\n",
    "pal_range_box"
   ]
  },
  {
   "cell_type": "code",
   "execution_count": null,
   "id": "a6d34695",
   "metadata": {},
   "outputs": [],
   "source": [
    "#Agregar el tipo de estadistico que aplicamos el ImageCollection (mean(), min(), max(), stdDev() )"
   ]
  },
  {
   "cell_type": "code",
   "execution_count": 62,
   "id": "fb2e9bb1",
   "metadata": {
    "scrolled": true
   },
   "outputs": [
    {
     "data": {
      "application/vnd.jupyter.widget-view+json": {
       "model_id": "037e9ce4e09c4880b65d475f3bbb431e",
       "version_major": 2,
       "version_minor": 0
      },
      "text/plain": [
       "FloatRangeSlider(value=(5.0, 7.5), continuous_update=False, description='Visualization Range:', max=1000.0, re…"
      ]
     },
     "metadata": {},
     "output_type": "display_data"
    }
   ],
   "source": [
    "#Alternativa para representar el rango de visualizacion\n",
    "\n",
    "# k = widgets.FloatRangeSlider(\n",
    "#     value=[5, 7.5],\n",
    "#     min=0,\n",
    "#     max=1000.0,\n",
    "#     step=0.1,\n",
    "#     description='Visualization Range:',\n",
    "#     disabled=False,\n",
    "#     style = {'description_width': 'initial'},\n",
    "#     continuous_update=False,\n",
    "#     orientation='horizontal',\n",
    "#     readout=True,\n",
    "#     readout_format='.1f',\n",
    "# )\n",
    "# k"
   ]
  },
  {
   "cell_type": "code",
   "execution_count": 26,
   "id": "4afa7bf8",
   "metadata": {},
   "outputs": [
    {
     "data": {
      "application/vnd.jupyter.widget-view+json": {
       "model_id": "55e37df6bb3c4de792db13704a883ca6",
       "version_major": 2,
       "version_minor": 0
      },
      "text/plain": [
       "VBox(children=(Button(button_style='primary', description='Draw', style=ButtonStyle(), tooltip='Click me'), Ou…"
      ]
     },
     "metadata": {},
     "output_type": "display_data"
    }
   ],
   "source": [
    "#Creamos un boton con el que cargaremos en el mapa los parametros definidos anteriormente\n",
    "button = widgets.Button(description='Draw', button_style='primary', tooltip='Click me', ayout=widgets.Layout(width=\"100px\"))\n",
    "\n",
    "output = widgets.Output()\n",
    "#Creamos una funcion donde cargamos para cada valor de layer, el objeto correspondiente de gee con sus parametros\n",
    "\n",
    "def clicking(b):\n",
    "    with output:\n",
    "        if layer.value == \"Aerosol\":\n",
    "            collection_aerosol = ee.ImageCollection('COPERNICUS/S5P/OFFL/L3_AER_AI') \\\n",
    "  .select(band_wdg.value) \\\n",
    "  .filterDate(timer1(), timer2()) #Añadimos las fechas de estudio\n",
    "\n",
    "            band_viz = {\n",
    "  'min': vis_range1.value, #Añadimos el valor minimo del rango de la paleta\n",
    "  'max': vis_range2.value, #Añadimos el valor maximo del rango de la paleta\n",
    "  'palette': ['black', 'blue', 'purple', 'cyan', 'green', 'yellow', 'red']\n",
    "}\n",
    "            Map.addLayer(collection_aerosol.mean(), band_viz, 'S5P Aerosol')\n",
    "        \n",
    "        if layer.value == \"Cloud\":\n",
    "            collection_cloud = ee.ImageCollection('COPERNICUS/S5P/OFFL/L3_CLOUD') \\\n",
    "  .select(band_wdg.value) \\\n",
    "  .filterDate(timer1(), timer2())\n",
    "\n",
    "            band_viz = {\n",
    "  'min': vis_range1.value,\n",
    "  'max': vis_range2.value,\n",
    "  'palette': ['black', 'blue', 'purple', 'cyan', 'green', 'yellow', 'red']\n",
    "}\n",
    "\n",
    "            Map.addLayer(collection_cloud.mean(), band_viz, 'S5P Cloud')\n",
    "        \n",
    "        if layer.value == \"NO2\":\n",
    "            collection_no2 = ee.ImageCollection('COPERNICUS/S5P/OFFL/L3_NO2') \\\n",
    "  .select(band_wdg.value) \\\n",
    "  .filterDate(timer1(), timer2())\n",
    "\n",
    "            band_viz = {\n",
    "  'min': vis_range1.value,\n",
    "  'max': vis_range2.value,\n",
    "  'palette': ['black', 'blue', 'purple', 'cyan', 'green', 'yellow', 'red']\n",
    "}\n",
    "\n",
    "            Map.addLayer(collection_no2.mean(), band_viz, 'S5P N02')\n",
    "        \n",
    "        if layer.value == \"O3\":\n",
    "            collection_o3 = ee.ImageCollection('COPERNICUS/S5P/OFFL/L3_O3') \\\n",
    "  .select(band_wdg.value) \\\n",
    "  .filterDate(timer1(), timer2())\n",
    "\n",
    "            band_viz = {\n",
    "  'min': vis_range1.value,\n",
    "  'max': vis_range2.value,\n",
    "  'palette': ['black', 'blue', 'purple', 'cyan', 'green', 'yellow', 'red']\n",
    "}\n",
    "\n",
    "            Map.addLayer(collection_o3.mean(), band_viz, 'S5P O3')\n",
    "            \n",
    "        if layer.value == \"SO2\":\n",
    "            collection_so2 = ee.ImageCollection('COPERNICUS/S5P/OFFL/L3_SO2') \\\n",
    "  .select(band_wdg.value) \\\n",
    "  .filterDate(timer1(), timer2())\n",
    "\n",
    "            band_viz = {\n",
    "  'min': vis_range1.value,\n",
    "  'max': vis_range2.value,\n",
    "  'palette': ['black', 'blue', 'purple', 'cyan', 'green', 'yellow', 'red']\n",
    "}\n",
    "\n",
    "            Map.addLayer(collection_so2.mean(), band_viz, 'S5P SO2')\n",
    "        \n",
    "        if layer.value == \"CH4\":\n",
    "            collection_ch4 = ee.ImageCollection('COPERNICUS/S5P/OFFL/L3_CH4') \\\n",
    "  .select(band_wdg.value) \\\n",
    "  .filterDate(timer1(), timer2())\n",
    "\n",
    "            band_viz = {\n",
    "  'min': vis_range1.value,\n",
    "  'max': vis_range2.value,\n",
    "  'palette': ['black', 'blue', 'purple', 'cyan', 'green', 'yellow', 'red']\n",
    "}\n",
    "\n",
    "            Map.addLayer(collection_ch4.mean(), band_viz, 'S5P CH4')\n",
    "        \n",
    "        if layer.value == \"CO\":\n",
    "            collection_co = ee.ImageCollection('COPERNICUS/S5P/OFFL/L3_CO') \\\n",
    "  .select(band_wdg.value) \\\n",
    "  .filterDate(timer1(), timer2())\n",
    "\n",
    "            band_viz = {\n",
    "  'min': vis_range1.value,\n",
    "  'max': vis_range2.value,\n",
    "  'palette': ['black', 'blue', 'purple', 'cyan', 'green', 'yellow', 'red']\n",
    "}\n",
    "\n",
    "            Map.addLayer(collection_co.mean(), band_viz, 'S5P CO')\n",
    "        \n",
    "        if layer.value == \"CH2O\":\n",
    "            collection_ch2o = ee.ImageCollection('COPERNICUS/S5P/OFFL/L3_HCHO') \\\n",
    "  .select(band_wdg.value) \\\n",
    "  .filterDate(timer1(), timer2())\n",
    "\n",
    "            band_viz = {\n",
    "  'min': vis_range1.value,\n",
    "  'max': vis_range2.value,\n",
    "  'palette': ['black', 'blue', 'purple', 'cyan', 'green', 'yellow', 'red']\n",
    "}\n",
    "\n",
    "            Map.addLayer(collection_ch2o.mean(), band_viz, 'S5P HCHO')\n",
    "        \n",
    "        #Imprimimos ciertos parametros para hacer pruebas\n",
    "        print(timer1(), timer2())\n",
    "        print(vis_range1.value, vis_range2.value)\n",
    "\n",
    "#Definimos para el boton \"button\" que cuando sea clicado, ejecute la fincion clicking()\n",
    "\n",
    "button.on_click(clicking)\n",
    "\n",
    "#Introducimos el boton \"button\" en una caja vertical\n",
    "\n",
    "widgets.VBox([button, output])"
   ]
  },
  {
   "cell_type": "code",
   "execution_count": 67,
   "id": "9a15ff9a",
   "metadata": {},
   "outputs": [
    {
     "name": "stdout",
     "output_type": "stream",
     "text": [
      "2021-01-01 2022-01-01\n",
      "0.0 0.0\n"
     ]
    }
   ],
   "source": [
    "print(timer1(), timer2())\n",
    "print(vis_range1.value, vis_range2.value)"
   ]
  },
  {
   "cell_type": "code",
   "execution_count": null,
   "id": "75b96bc7",
   "metadata": {},
   "outputs": [],
   "source": []
  }
 ],
 "metadata": {
  "kernelspec": {
   "display_name": "Python 3 (ipykernel)",
   "language": "python",
   "name": "python3"
  },
  "language_info": {
   "codemirror_mode": {
    "name": "ipython",
    "version": 3
   },
   "file_extension": ".py",
   "mimetype": "text/x-python",
   "name": "python",
   "nbconvert_exporter": "python",
   "pygments_lexer": "ipython3",
   "version": "3.9.7"
  }
 },
 "nbformat": 4,
 "nbformat_minor": 5
}
