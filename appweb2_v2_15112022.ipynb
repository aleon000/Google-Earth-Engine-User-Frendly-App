{
 "cells": [
  {
   "cell_type": "code",
   "execution_count": 69,
   "id": "ac7fd0ca",
   "metadata": {},
   "outputs": [],
   "source": [
    "import geemap\n",
    "import ee\n",
    "import ipywidgets as widgets\n",
    "from ipyleaflet import WidgetControl\n",
    "import datetime as dt\n",
    "import numpy as np\n",
    "import os"
   ]
  },
  {
   "cell_type": "code",
   "execution_count": 70,
   "id": "a39635ee",
   "metadata": {},
   "outputs": [
    {
     "data": {
      "application/vnd.jupyter.widget-view+json": {
       "model_id": "af7d267b2a0c44d085a980840b28ffc6",
       "version_major": 2,
       "version_minor": 0
      },
      "text/plain": [
       "Map(center=[20, 0], controls=(WidgetControl(options=['position', 'transparent_bg'], widget=HBox(children=(Togg…"
      ]
     },
     "metadata": {},
     "output_type": "display_data"
    }
   ],
   "source": [
    "#Mapa de gee\n",
    "\n",
    "Map = geemap.Map()\n",
    "Map"
   ]
  },
  {
   "cell_type": "code",
   "execution_count": 71,
   "id": "9bb46c79",
   "metadata": {},
   "outputs": [],
   "source": [
    "# CREACION DE WIDGETS"
   ]
  },
  {
   "cell_type": "code",
   "execution_count": 72,
   "id": "55f9bc73",
   "metadata": {},
   "outputs": [],
   "source": [
    "# Creamos un widget para modificar la fecha de inicio\n",
    "date01_wgt = widgets.DatePicker(\n",
    "    description='From date:',\n",
    "    value = dt.date(2021, 1, 1),\n",
    "    #style={\"description_width\": \"initial\"},\n",
    "    layout=widgets.Layout(width=\"215px\")\n",
    ")\n",
    "\n",
    "# Creamos un widget para modificar la fecha de final\n",
    "date02_wgt = widgets.DatePicker(\n",
    "    description='To date:',\n",
    "    value = dt.date(2022, 1,1),\n",
    "    layout=widgets.Layout(width=\"215px\")\n",
    ")\n",
    "\n",
    "#Box de los widgets\n",
    "date_wgt = widgets.HBox([date01_wgt, date02_wgt])"
   ]
  },
  {
   "cell_type": "code",
   "execution_count": 73,
   "id": "4630c1cd",
   "metadata": {},
   "outputs": [],
   "source": [
    "#Widget con un cuadro de texto para definir el ImageCollection\n",
    "img_coll_wgt = widgets.Text(\n",
    "    value='',\n",
    "    placeholder='e.g. MODIS/006/MOD11A1',\n",
    "    description='ImageColl:',\n",
    "    layout=widgets.Layout(width=\"300px\"),\n",
    "    #style={'description_width': 'initial'},\n",
    "    disabled=False    \n",
    ")"
   ]
  },
  {
   "cell_type": "code",
   "execution_count": 74,
   "id": "7802d34a",
   "metadata": {},
   "outputs": [],
   "source": [
    "#Widget con un cuadro de texto para definir la banda del ImageCollection\n",
    "band_wgt = widgets.Text(\n",
    "    value='',\n",
    "    placeholder='e.g. LST_Day_1km, B4, B5 ',\n",
    "    description='Band:',\n",
    "    layout=widgets.Layout(width=\"300px\"),\n",
    "    #style={\"description_width\": \"initial\"},\n",
    "    disabled=False\n",
    ")"
   ]
  },
  {
   "cell_type": "code",
   "execution_count": 75,
   "id": "1584a7a8",
   "metadata": {},
   "outputs": [],
   "source": [
    "#Widget cuadro de texto para añadir la paleta\n",
    "pal = widgets.Textarea(\n",
    "    value='',\n",
    "    placeholder=\"e.g. '040274', '040281', '0502a3', '0502b8', '0502ce', '0502e6'\",\n",
    "    description='Palette: ',\n",
    "    layout=widgets.Layout(width=\"400px\"),\n",
    "    #style={\"description_width\": \"initial\"},\n",
    "    disabled=False\n",
    ")"
   ]
  },
  {
   "cell_type": "code",
   "execution_count": 82,
   "id": "e4854f8b",
   "metadata": {},
   "outputs": [],
   "source": [
    "#Widgets max min para el rango de visualizacion\n",
    "vis_range1 = widgets.FloatText(\n",
    "    value=0,\n",
    "    description='VisRange: Min',\n",
    "    layout=widgets.Layout(width=\"200px\"),\n",
    "    style = {'description_width': 'initial'},\n",
    "    disabled=False\n",
    "    \n",
    ")\n",
    "\n",
    "vis_range2 = widgets.FloatText(\n",
    "    value=0,\n",
    "    description='Max',\n",
    "    layout=widgets.Layout(width=\"200px\"),\n",
    "    \n",
    "    disabled=False\n",
    ")\n",
    "\n",
    "#Box para representacion de los rango de vis.\n",
    "pal_range_box = widgets.HBox([vis_range1, vis_range2])"
   ]
  },
  {
   "cell_type": "code",
   "execution_count": 77,
   "id": "8d23c034",
   "metadata": {},
   "outputs": [],
   "source": [
    "#Widget con un cuadro de texto para definir la banda del ImageCollection anterior\n",
    "layer_name = widgets.Text(\n",
    "    value='',\n",
    "    placeholder='e.g: layer_1',\n",
    "    description='Layer Name:',\n",
    "    layout=widgets.Layout(width=\"300px\"),\n",
    "    #style = {'description_width': 'initial'},\n",
    "    disabled=False\n",
    ")"
   ]
  },
  {
   "cell_type": "code",
   "execution_count": 78,
   "id": "8c5e3a81",
   "metadata": {},
   "outputs": [],
   "source": [
    "#Widget boton para cargar la funcion param()\n",
    "button = widgets.Button(\n",
    "    description='Load Parameters', \n",
    "    button_style='primary',\n",
    "    tooltip='Click me'\n",
    ")\n",
    "\n",
    "#Widget que utilizaremos en la funcion param()\n",
    "output = widgets.Output()\n",
    "\n",
    "#Box con widget button y output\n",
    "button_box = widgets.VBox([button, output])"
   ]
  },
  {
   "cell_type": "code",
   "execution_count": 79,
   "id": "943f7b5a",
   "metadata": {},
   "outputs": [],
   "source": [
    "#Widget para elegir las imagens disponibles del imageCollection y su output\n",
    "output_2 = widgets.Output()\n",
    "\n",
    "image_wgt = widgets.Dropdown(\n",
    "    options='',\n",
    "    value=None,\n",
    "    description=\"Image:\",\n",
    "    #layout=widgets.Layout(width=widget_width, padding=padding),\n",
    "    #style={\"description_width\": \"initial\"}\n",
    ")\n",
    "\n",
    "#Box con image_wgt y output_2\n",
    "image_wgt_box = widgets.VBox([image_wgt, output_2])"
   ]
  },
  {
   "cell_type": "code",
   "execution_count": 80,
   "id": "02b5cdbc",
   "metadata": {},
   "outputs": [],
   "source": [
    "#Widget con el tipo de reduction que se quiere aplicar al imageCollection\n",
    "reduce_wgt = widgets.Dropdown(\n",
    "    options=['mean', 'min', 'max', 'median', 'sum'],\n",
    "    value='mean',\n",
    "    description='Reduce:',\n",
    "    layout=widgets.Layout(width=\"300px\"),\n",
    "    disabled=False,\n",
    "    #style={\"description_width\": \"initial\"}\n",
    ")"
   ]
  },
  {
   "cell_type": "code",
   "execution_count": 15,
   "id": "53d80762",
   "metadata": {},
   "outputs": [],
   "source": [
    "# SETTINGS"
   ]
  },
  {
   "cell_type": "code",
   "execution_count": 16,
   "id": "b7b78126",
   "metadata": {},
   "outputs": [],
   "source": [
    "\n",
    "#if len(Map.draw_features) == 0:\n",
    "    "
   ]
  },
  {
   "cell_type": "code",
   "execution_count": 17,
   "id": "bbee5eec",
   "metadata": {},
   "outputs": [],
   "source": [
    "# FUNCIONES"
   ]
  },
  {
   "cell_type": "code",
   "execution_count": 18,
   "id": "919cb2f2",
   "metadata": {},
   "outputs": [],
   "source": [
    "#Funciones para fecha de inicio y final respectivamente. Devuelven fechas con formato\n",
    "\n",
    "def timer1():    \n",
    "    ss = date01_wgt.value\n",
    "    date01 = \"{}-{:02}-{:02}\".format(ss.year, ss.month, ss.day)\n",
    "    return(date01)\n",
    "    \n",
    "def timer2():\n",
    "    ss = date02_wgt.value\n",
    "    date02 = \"{}-{:02}-{:02}\".format(ss.year, ss.month, ss.day)\n",
    "    return(date02)\n",
    "    \n",
    "    "
   ]
  },
  {
   "cell_type": "code",
   "execution_count": 19,
   "id": "623a71d6",
   "metadata": {},
   "outputs": [],
   "source": [
    "#Analiza si el valor de image_wgt ha cambiado, si lo hace cambian las opciones\n",
    "def handle_dropdwn_click(change):\n",
    "    \n",
    "    #Si la banda es mas de una, las lista\n",
    "    if band_wgt.value == '':\n",
    "        print('add a valid band to continue')\n",
    "    else:\n",
    "        band_val = band_wgt.value.replace(\",\", \"\")\n",
    "        band_val = band_val.split()\n",
    "    \n",
    "    #Input teniendo en cuenta la lista de band_val\n",
    "    img_check = ee.ImageCollection(img_coll_wgt.value)\\\n",
    "        .select(band_val)\\\n",
    "        .filterDate(timer1(), timer2())\n",
    "    \n",
    "    #Analiza si cambia el valor de img_coll_wgt y si lo hace, carga la lista de imagenes disponibles dentro de la coleccion\n",
    "    if change['new'] != '' and band_wgt.value != '':\n",
    "        img_list = img_check.aggregate_array(\"system:id\").getInfo()\n",
    "        img_list.insert(0, '')       \n",
    "        image_wgt.options = img_list\n",
    "    else:\n",
    "        print('Add a valid image collection or band')\n",
    "    \n",
    "#Analisis de cambios en el parametro img_coll_wgt.value        \n",
    "img_coll_wgt.observe(handle_dropdwn_click, \"value\")"
   ]
  },
  {
   "cell_type": "code",
   "execution_count": 25,
   "id": "eb3eab13",
   "metadata": {},
   "outputs": [],
   "source": [
    "#Definimos la funcion param() que cargara los parametros en la aplicacion \n",
    "\n",
    "def param(b):\n",
    "    with output:\n",
    "        #creacion de listas si fuera necesario para band_wgt.value\n",
    "        if band_wgt.value == '':\n",
    "            print('add a valid band to continue')\n",
    "        else:\n",
    "            band_val = band_wgt.value.replace(\",\", \"\")\n",
    "            band_val = band_val.split()                \n",
    "               \n",
    "        #Introducimos la coleccion, introduciomos la banda\n",
    "        data_load = ee.ImageCollection(img_coll_wgt.value)\\\n",
    "        .select(band_val)\\\n",
    "        .filterDate(timer1(), timer2())       \n",
    "        \n",
    "        #Definimos el estadistico para reducir la imageCollection\n",
    "        if reduce_wgt.value == 'mean':\n",
    "            data_load_reducer = data_load.mean()\n",
    "        elif reduce_wgt.value == 'max':\n",
    "            data_load_reducer = data_load.max()\n",
    "        elif reduce_wgt.value == 'min':\n",
    "            data_load_reducer = data_load.min()\n",
    "        elif reduce_wgt.value == 'median':\n",
    "            data_load_reducer = data_load.median()\n",
    "        elif reduce_wgt.value == 'sum':\n",
    "            data_load_reducer = data_load.sum()\n",
    "                    \n",
    "        #Se determina si es una image o una imagecollection y si tiene ROI o no. Se modifica data_load\n",
    "        if image_wgt.value == '' and len(Map.draw_features) == 0:\n",
    "            data_load = ee.ImageCollection(img_coll_wgt.value)\\\n",
    "            .select(band_val)\n",
    "            data_load = data_load_reducer \n",
    "        elif image_wgt.value == '' and len(Map.draw_features) != 0:\n",
    "            data_load = ee.ImageCollection(img_coll_wgt.value)\\\n",
    "            .select(band_val)\n",
    "            data_load = data_load_reducer\n",
    "            data_load = data_load.clip(Map.draw_features[0])\n",
    "        elif image_wgt.value != '' and len(Map.draw_features) == 0:\n",
    "            data_load = ee.Image(image_wgt.value)\\\n",
    "            .select(band_val)\n",
    "        elif image_wgt.value != '' and len(Map.draw_features) != 0:\n",
    "            data_load = ee.Image(image_wgt.value)\\\n",
    "            .select(band_val)\\\n",
    "            .clip(Map.draw_features[0])\n",
    "        \n",
    "        #Comprobación del valor de pal.value, si hay valor, se da formato si no, None\n",
    "        if pal.value == '':\n",
    "            pal_val = None\n",
    "        else:\n",
    "            pal_val = pal.value.replace(\"'\", \"\")\n",
    "            pal_val = pal_val.replace(\",\", \"\")\n",
    "            pal_val = pal_val.split()\n",
    "                \n",
    "        band_vis = {\n",
    "  'min': vis_range1.value, #Añadimos el valor minimo del rango de la paleta\n",
    "  'max': vis_range2.value, #Añadimos el valor maximo del rango de la paleta\n",
    "  'palette': pal_val #Se le da valor al parametro paleta teniendo en cuenta el paso anterior\n",
    "}\n",
    "                \n",
    "        #Cargamos todos los parametros a Map.    \n",
    "        Map.addLayer(data_load, band_vis, layer_name.value)  \n",
    "\n",
    "#Boton que activa la función param()\n",
    "button.on_click(param)"
   ]
  },
  {
   "cell_type": "code",
   "execution_count": 21,
   "id": "9bbe1e55",
   "metadata": {},
   "outputs": [],
   "source": [
    "# FONTEND"
   ]
  },
  {
   "cell_type": "code",
   "execution_count": null,
   "id": "06e7c5c9",
   "metadata": {},
   "outputs": [],
   "source": []
  },
  {
   "cell_type": "code",
   "execution_count": 85,
   "id": "076434ed",
   "metadata": {
    "scrolled": true
   },
   "outputs": [
    {
     "data": {
      "application/vnd.jupyter.widget-view+json": {
       "model_id": "1a0f83cd23fd4209badf62cee4a1bd96",
       "version_major": 2,
       "version_minor": 0
      },
      "text/plain": [
       "GridBox(children=(HBox(children=(DatePicker(value=datetime.date(2021, 1, 1), description='From date:', layout=…"
      ]
     },
     "metadata": {},
     "output_type": "display_data"
    }
   ],
   "source": [
    "wgts = [date_wgt, band_wgt, img_coll_wgt, image_wgt_box, reduce_wgt, pal, pal_range_box, layer_name]\n",
    "\n",
    "input_wgt = widgets.GridBox(wgts, layout=widgets.Layout(grid_template_columns=\"repeat(3, 570px)\", border='3px solid black'))\n",
    "\n",
    "input_wgt"
   ]
  },
  {
   "cell_type": "code",
   "execution_count": 56,
   "id": "ad42515a",
   "metadata": {
    "scrolled": true
   },
   "outputs": [
    {
     "data": {
      "application/vnd.jupyter.widget-view+json": {
       "model_id": "0c2f1863768944bf96f08d0f9b17d824",
       "version_major": 2,
       "version_minor": 0
      },
      "text/plain": [
       "VBox(children=(Button(button_style='primary', description='Load Parameters', style=ButtonStyle(), tooltip='Cli…"
      ]
     },
     "metadata": {},
     "output_type": "display_data"
    }
   ],
   "source": [
    "button_box"
   ]
  },
  {
   "cell_type": "code",
   "execution_count": 32,
   "id": "737bd7b8",
   "metadata": {},
   "outputs": [
    {
     "data": {
      "application/vnd.jupyter.widget-view+json": {
       "model_id": "3bce212672994e579f3cadd1e62641cf",
       "version_major": 2,
       "version_minor": 0
      },
      "text/plain": [
       "VBox(children=(HBox(children=(HBox(children=(DatePicker(value=datetime.date(2021, 1, 1), description='Period: …"
      ]
     },
     "metadata": {},
     "output_type": "display_data"
    }
   ],
   "source": [
    "# #Contenedor para todos los widgets creados\n",
    "# wgts_box = widgets.VBox([\n",
    "#     widgets.HBox([date_wgt]),\n",
    "#     widgets.HBox([band_wgt, img_coll_wgt, image_wgt_box, reduce_wgt]),\n",
    "#     widgets.HBox([pal]),\n",
    "#     widgets.HBox([pal_range_box]),\n",
    "#     widgets.HBox([layer_name]),\n",
    "#     widgets.HBox([button_box])], \n",
    "#     layout=widgets.Layout(border='3px solid black'))\n",
    "# wgts_box"
   ]
  },
  {
   "cell_type": "code",
   "execution_count": null,
   "id": "8b0b765c",
   "metadata": {},
   "outputs": [],
   "source": [
    "# PRUEBAS"
   ]
  },
  {
   "cell_type": "code",
   "execution_count": null,
   "id": "c3d7d544",
   "metadata": {
    "scrolled": true
   },
   "outputs": [],
   "source": [
    "#Map.user_roi()"
   ]
  },
  {
   "cell_type": "code",
   "execution_count": null,
   "id": "ad31aafe",
   "metadata": {},
   "outputs": [],
   "source": [
    "#Map.draw_features"
   ]
  },
  {
   "cell_type": "code",
   "execution_count": null,
   "id": "33dc0679",
   "metadata": {},
   "outputs": [],
   "source": [
    "#a = Map.draw_features[0]"
   ]
  },
  {
   "cell_type": "code",
   "execution_count": null,
   "id": "d21151c7",
   "metadata": {},
   "outputs": [],
   "source": [
    "# collection_no2 = ee.ImageCollection('MODIS/006/MCD15A3H') \\\n",
    "#   .select('Fpar') \\\n",
    "#   .filterDate('2005-09-24', '2005-10-05')\\\n",
    "#   .median()\n",
    "\n",
    "# coll_clip = collection_no2.clip(a)\n",
    "\n",
    "# band_viz = {\n",
    "#   'min': 0,\n",
    "#   'max': 100,\n",
    "#   'palette': ['e1e4b4', '999d60', '2ec409', '0a4b06']\n",
    "# }\n",
    "\n",
    "# Map.addLayer(coll_clip, band_viz, '1')"
   ]
  },
  {
   "cell_type": "code",
   "execution_count": null,
   "id": "0d9a0cdf",
   "metadata": {},
   "outputs": [],
   "source": [
    "#min(), max(), mean(), median(), sum()"
   ]
  },
  {
   "cell_type": "code",
   "execution_count": null,
   "id": "68642db6",
   "metadata": {},
   "outputs": [],
   "source": [
    "#Ver la informacion de cada imagen que contiende el imagecollection (collection es image.Collection)\n",
    "#collection.aggregate_array(\"system:id\").getInfo()"
   ]
  }
 ],
 "metadata": {
  "kernelspec": {
   "display_name": "Python 3 (ipykernel)",
   "language": "python",
   "name": "python3"
  },
  "language_info": {
   "codemirror_mode": {
    "name": "ipython",
    "version": 3
   },
   "file_extension": ".py",
   "mimetype": "text/x-python",
   "name": "python",
   "nbconvert_exporter": "python",
   "pygments_lexer": "ipython3",
   "version": "3.9.7"
  }
 },
 "nbformat": 4,
 "nbformat_minor": 5
}
